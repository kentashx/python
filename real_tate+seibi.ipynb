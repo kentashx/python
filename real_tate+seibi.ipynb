{
 "cells": [
  {
   "cell_type": "code",
   "execution_count": 130,
   "metadata": {
    "collapsed": true
   },
   "outputs": [],
   "source": [
    "import pandas as pd\n",
    "import numpy as np\n",
    "import re"
   ]
  },
  {
   "cell_type": "code",
   "execution_count": 131,
   "metadata": {
    "collapsed": true
   },
   "outputs": [],
   "source": [
    "real_column_list = ['レコードID','講演会参加日','対象医薬品名','販売元','薬効分類コード','薬効分類名','適応',\n",
    "               '開催都道府県','開催市区町村','講演者','講演者の所属施設','座長', '座長の所属施設','講演テーマ','ハッシュ値']\n",
    "\n",
    "web_cowlumn_list = ['レコードID','講演会視聴日','視聴時間帯','対象医薬品名','販売元','薬効分類コード','薬効分類名','適応',\n",
    "                  '講演者','講演者の所属施設', '座長', '座長の所属施設','講演テーマ','ハッシュ値']"
   ]
  },
  {
   "cell_type": "markdown",
   "metadata": {},
   "source": [
    "# 縦マージ"
   ]
  },
  {
   "cell_type": "markdown",
   "metadata": {},
   "source": [
    "## ①不要列の削除　②座長用データの複製"
   ]
  },
  {
   "cell_type": "code",
   "execution_count": 132,
   "metadata": {
    "collapsed": true
   },
   "outputs": [],
   "source": [
    "df1 = pd.read_csv('whitedata.csv',encoding ='cp932',usecols = real_column_list)\n",
    "df2 = pd.read_csv('whitedata.csv',encoding ='cp932',usecols = real_column_list)"
   ]
  },
  {
   "cell_type": "markdown",
   "metadata": {},
   "source": [
    "## ③フラグ追加"
   ]
  },
  {
   "cell_type": "code",
   "execution_count": 133,
   "metadata": {
    "collapsed": true
   },
   "outputs": [],
   "source": [
    "df1['フラグ'] ='講演者'\n",
    "df2['フラグ'] ='座長'"
   ]
  },
  {
   "cell_type": "markdown",
   "metadata": {},
   "source": [
    "## ⑤座長情報，座長所属施設情報の移植"
   ]
  },
  {
   "cell_type": "code",
   "execution_count": 134,
   "metadata": {
    "collapsed": true
   },
   "outputs": [],
   "source": [
    "df2['講演者']= df1['座長']\n",
    "df2['講演者の所属施設'] = df1['座長の所属施設']"
   ]
  },
  {
   "cell_type": "code",
   "execution_count": 135,
   "metadata": {
    "collapsed": true
   },
   "outputs": [],
   "source": [
    "df = pd.concat([df1,df2],axis = 0)"
   ]
  },
  {
   "cell_type": "markdown",
   "metadata": {},
   "source": [
    "## ④フラグ&レコード（ユニークID）作成"
   ]
  },
  {
   "cell_type": "code",
   "execution_count": 136,
   "metadata": {
    "collapsed": true
   },
   "outputs": [],
   "source": [
    "df['フラグ&レコード'] = df['フラグ'] + df['レコードID'].astype(str)"
   ]
  },
  {
   "cell_type": "markdown",
   "metadata": {},
   "source": [
    "## ⑥「座長」,「座長所属施設」列削除"
   ]
  },
  {
   "cell_type": "code",
   "execution_count": 137,
   "metadata": {
    "collapsed": true
   },
   "outputs": [],
   "source": [
    "df.drop(['座長','座長の所属施設'],inplace = True,axis =1)"
   ]
  },
  {
   "cell_type": "code",
   "execution_count": 138,
   "metadata": {},
   "outputs": [
    {
     "data": {
      "text/html": [
       "<div>\n",
       "<style>\n",
       "    .dataframe thead tr:only-child th {\n",
       "        text-align: right;\n",
       "    }\n",
       "\n",
       "    .dataframe thead th {\n",
       "        text-align: left;\n",
       "    }\n",
       "\n",
       "    .dataframe tbody tr th {\n",
       "        vertical-align: top;\n",
       "    }\n",
       "</style>\n",
       "<table border=\"1\" class=\"dataframe\">\n",
       "  <thead>\n",
       "    <tr style=\"text-align: right;\">\n",
       "      <th></th>\n",
       "      <th>レコードID</th>\n",
       "      <th>講演会参加日</th>\n",
       "      <th>対象医薬品名</th>\n",
       "      <th>販売元</th>\n",
       "      <th>薬効分類コード</th>\n",
       "      <th>薬効分類名</th>\n",
       "      <th>適応</th>\n",
       "      <th>講演テーマ</th>\n",
       "      <th>ハッシュ値</th>\n",
       "      <th>開催都道府県</th>\n",
       "      <th>開催市区町村</th>\n",
       "      <th>講演者</th>\n",
       "      <th>講演者の所属施設</th>\n",
       "      <th>フラグ</th>\n",
       "      <th>フラグ&amp;レコード</th>\n",
       "    </tr>\n",
       "  </thead>\n",
       "  <tbody>\n",
       "    <tr>\n",
       "      <th>0</th>\n",
       "      <td>1</td>\n",
       "      <td>3月30日</td>\n",
       "      <td>メンゾール</td>\n",
       "      <td>武田</td>\n",
       "      <td>CA</td>\n",
       "      <td>糖尿病</td>\n",
       "      <td>がん</td>\n",
       "      <td>がん</td>\n",
       "      <td>931431890</td>\n",
       "      <td>東京</td>\n",
       "      <td>仙台</td>\n",
       "      <td>矢作　直也</td>\n",
       "      <td>筑波大学</td>\n",
       "      <td>講演者</td>\n",
       "      <td>講演者1</td>\n",
       "    </tr>\n",
       "    <tr>\n",
       "      <th>1</th>\n",
       "      <td>2</td>\n",
       "      <td>3月30日</td>\n",
       "      <td>メンゾール</td>\n",
       "      <td>武田</td>\n",
       "      <td>CA</td>\n",
       "      <td>糖尿病</td>\n",
       "      <td>がん</td>\n",
       "      <td>がん</td>\n",
       "      <td>931431890</td>\n",
       "      <td>東京</td>\n",
       "      <td>仙台</td>\n",
       "      <td>鈴木　浩明</td>\n",
       "      <td>筑波大学　医学医療系</td>\n",
       "      <td>講演者</td>\n",
       "      <td>講演者2</td>\n",
       "    </tr>\n",
       "    <tr>\n",
       "      <th>2</th>\n",
       "      <td>3</td>\n",
       "      <td>3月30日</td>\n",
       "      <td>メンゾール</td>\n",
       "      <td>武田</td>\n",
       "      <td>CA</td>\n",
       "      <td>糖尿病</td>\n",
       "      <td>がん</td>\n",
       "      <td>がん</td>\n",
       "      <td>931431890</td>\n",
       "      <td>東京</td>\n",
       "      <td>仙台</td>\n",
       "      <td>特定できず</td>\n",
       "      <td>特定できず</td>\n",
       "      <td>講演者</td>\n",
       "      <td>講演者3</td>\n",
       "    </tr>\n",
       "    <tr>\n",
       "      <th>3</th>\n",
       "      <td>4</td>\n",
       "      <td>3月30日</td>\n",
       "      <td>メンゾール</td>\n",
       "      <td>武田</td>\n",
       "      <td>CA</td>\n",
       "      <td>糖尿病</td>\n",
       "      <td>がん</td>\n",
       "      <td>がん</td>\n",
       "      <td>931431890</td>\n",
       "      <td>東京</td>\n",
       "      <td>仙台</td>\n",
       "      <td>特定できず</td>\n",
       "      <td>NaN</td>\n",
       "      <td>講演者</td>\n",
       "      <td>講演者4</td>\n",
       "    </tr>\n",
       "    <tr>\n",
       "      <th>4</th>\n",
       "      <td>5</td>\n",
       "      <td>3月30日</td>\n",
       "      <td>メンゾール</td>\n",
       "      <td>武田</td>\n",
       "      <td>CA</td>\n",
       "      <td>糖尿病</td>\n",
       "      <td>がん</td>\n",
       "      <td>がん</td>\n",
       "      <td>931431890</td>\n",
       "      <td>東京</td>\n",
       "      <td>仙台</td>\n",
       "      <td>志鎌　明人</td>\n",
       "      <td>茨城県立中央病院</td>\n",
       "      <td>講演者</td>\n",
       "      <td>講演者5</td>\n",
       "    </tr>\n",
       "  </tbody>\n",
       "</table>\n",
       "</div>"
      ],
      "text/plain": [
       "   レコードID 講演会参加日 対象医薬品名 販売元 薬効分類コード 薬効分類名  適応 講演テーマ      ハッシュ値 開催都道府県 開催市区町村  \\\n",
       "0       1  3月30日  メンゾール  武田      CA   糖尿病  がん    がん  931431890     東京     仙台   \n",
       "1       2  3月30日  メンゾール  武田      CA   糖尿病  がん    がん  931431890     東京     仙台   \n",
       "2       3  3月30日  メンゾール  武田      CA   糖尿病  がん    がん  931431890     東京     仙台   \n",
       "3       4  3月30日  メンゾール  武田      CA   糖尿病  がん    がん  931431890     東京     仙台   \n",
       "4       5  3月30日  メンゾール  武田      CA   糖尿病  がん    がん  931431890     東京     仙台   \n",
       "\n",
       "     講演者    講演者の所属施設  フラグ フラグ&レコード  \n",
       "0  矢作　直也        筑波大学  講演者     講演者1  \n",
       "1  鈴木　浩明  筑波大学　医学医療系  講演者     講演者2  \n",
       "2  特定できず       特定できず  講演者     講演者3  \n",
       "3  特定できず         NaN  講演者     講演者4  \n",
       "4  志鎌　明人    茨城県立中央病院  講演者     講演者5  "
      ]
     },
     "execution_count": 138,
     "metadata": {},
     "output_type": "execute_result"
    }
   ],
   "source": [
    "df.head()"
   ]
  },
  {
   "cell_type": "markdown",
   "metadata": {},
   "source": [
    "## ⑦列名の並び替え"
   ]
  },
  {
   "cell_type": "code",
   "execution_count": 139,
   "metadata": {},
   "outputs": [
    {
     "name": "stderr",
     "output_type": "stream",
     "text": [
      "/Users/shintomi/anaconda3/lib/python3.6/site-packages/ipykernel_launcher.py:1: DeprecationWarning: \n",
      ".ix is deprecated. Please use\n",
      ".loc for label based indexing or\n",
      ".iloc for positional indexing\n",
      "\n",
      "See the documentation here:\n",
      "http://pandas.pydata.org/pandas-docs/stable/indexing.html#ix-indexer-is-deprecated\n",
      "  \"\"\"Entry point for launching an IPython kernel.\n"
     ]
    }
   ],
   "source": [
    "df = df.ix[:,['フラグ','レコードID','フラグ&レコード','講演会参加日','対象医薬品名','販売元','薬効分類コード','薬効分類名','適応',\n",
    "               '開催都道府県','開催市区町村','講演者','講演者の所属施設','講演テーマ','ハッシュ値']]"
   ]
  },
  {
   "cell_type": "code",
   "execution_count": 140,
   "metadata": {},
   "outputs": [
    {
     "data": {
      "text/html": [
       "<div>\n",
       "<style>\n",
       "    .dataframe thead tr:only-child th {\n",
       "        text-align: right;\n",
       "    }\n",
       "\n",
       "    .dataframe thead th {\n",
       "        text-align: left;\n",
       "    }\n",
       "\n",
       "    .dataframe tbody tr th {\n",
       "        vertical-align: top;\n",
       "    }\n",
       "</style>\n",
       "<table border=\"1\" class=\"dataframe\">\n",
       "  <thead>\n",
       "    <tr style=\"text-align: right;\">\n",
       "      <th></th>\n",
       "      <th>フラグ</th>\n",
       "      <th>レコードID</th>\n",
       "      <th>フラグ&amp;レコード</th>\n",
       "      <th>講演会参加日</th>\n",
       "      <th>対象医薬品名</th>\n",
       "      <th>販売元</th>\n",
       "      <th>薬効分類コード</th>\n",
       "      <th>薬効分類名</th>\n",
       "      <th>適応</th>\n",
       "      <th>開催都道府県</th>\n",
       "      <th>開催市区町村</th>\n",
       "      <th>講演者</th>\n",
       "      <th>講演者の所属施設</th>\n",
       "      <th>講演テーマ</th>\n",
       "      <th>ハッシュ値</th>\n",
       "    </tr>\n",
       "  </thead>\n",
       "  <tbody>\n",
       "    <tr>\n",
       "      <th>0</th>\n",
       "      <td>講演者</td>\n",
       "      <td>1</td>\n",
       "      <td>講演者1</td>\n",
       "      <td>3月30日</td>\n",
       "      <td>メンゾール</td>\n",
       "      <td>武田</td>\n",
       "      <td>CA</td>\n",
       "      <td>糖尿病</td>\n",
       "      <td>がん</td>\n",
       "      <td>東京</td>\n",
       "      <td>仙台</td>\n",
       "      <td>矢作　直也</td>\n",
       "      <td>筑波大学</td>\n",
       "      <td>がん</td>\n",
       "      <td>931431890</td>\n",
       "    </tr>\n",
       "    <tr>\n",
       "      <th>1</th>\n",
       "      <td>講演者</td>\n",
       "      <td>2</td>\n",
       "      <td>講演者2</td>\n",
       "      <td>3月30日</td>\n",
       "      <td>メンゾール</td>\n",
       "      <td>武田</td>\n",
       "      <td>CA</td>\n",
       "      <td>糖尿病</td>\n",
       "      <td>がん</td>\n",
       "      <td>東京</td>\n",
       "      <td>仙台</td>\n",
       "      <td>鈴木　浩明</td>\n",
       "      <td>筑波大学　医学医療系</td>\n",
       "      <td>がん</td>\n",
       "      <td>931431890</td>\n",
       "    </tr>\n",
       "    <tr>\n",
       "      <th>2</th>\n",
       "      <td>講演者</td>\n",
       "      <td>3</td>\n",
       "      <td>講演者3</td>\n",
       "      <td>3月30日</td>\n",
       "      <td>メンゾール</td>\n",
       "      <td>武田</td>\n",
       "      <td>CA</td>\n",
       "      <td>糖尿病</td>\n",
       "      <td>がん</td>\n",
       "      <td>東京</td>\n",
       "      <td>仙台</td>\n",
       "      <td>特定できず</td>\n",
       "      <td>特定できず</td>\n",
       "      <td>がん</td>\n",
       "      <td>931431890</td>\n",
       "    </tr>\n",
       "    <tr>\n",
       "      <th>3</th>\n",
       "      <td>講演者</td>\n",
       "      <td>4</td>\n",
       "      <td>講演者4</td>\n",
       "      <td>3月30日</td>\n",
       "      <td>メンゾール</td>\n",
       "      <td>武田</td>\n",
       "      <td>CA</td>\n",
       "      <td>糖尿病</td>\n",
       "      <td>がん</td>\n",
       "      <td>東京</td>\n",
       "      <td>仙台</td>\n",
       "      <td>特定できず</td>\n",
       "      <td>NaN</td>\n",
       "      <td>がん</td>\n",
       "      <td>931431890</td>\n",
       "    </tr>\n",
       "    <tr>\n",
       "      <th>4</th>\n",
       "      <td>講演者</td>\n",
       "      <td>5</td>\n",
       "      <td>講演者5</td>\n",
       "      <td>3月30日</td>\n",
       "      <td>メンゾール</td>\n",
       "      <td>武田</td>\n",
       "      <td>CA</td>\n",
       "      <td>糖尿病</td>\n",
       "      <td>がん</td>\n",
       "      <td>東京</td>\n",
       "      <td>仙台</td>\n",
       "      <td>志鎌　明人</td>\n",
       "      <td>茨城県立中央病院</td>\n",
       "      <td>がん</td>\n",
       "      <td>931431890</td>\n",
       "    </tr>\n",
       "  </tbody>\n",
       "</table>\n",
       "</div>"
      ],
      "text/plain": [
       "   フラグ  レコードID フラグ&レコード 講演会参加日 対象医薬品名 販売元 薬効分類コード 薬効分類名  適応 開催都道府県 開催市区町村  \\\n",
       "0  講演者       1     講演者1  3月30日  メンゾール  武田      CA   糖尿病  がん     東京     仙台   \n",
       "1  講演者       2     講演者2  3月30日  メンゾール  武田      CA   糖尿病  がん     東京     仙台   \n",
       "2  講演者       3     講演者3  3月30日  メンゾール  武田      CA   糖尿病  がん     東京     仙台   \n",
       "3  講演者       4     講演者4  3月30日  メンゾール  武田      CA   糖尿病  がん     東京     仙台   \n",
       "4  講演者       5     講演者5  3月30日  メンゾール  武田      CA   糖尿病  がん     東京     仙台   \n",
       "\n",
       "     講演者    講演者の所属施設 講演テーマ      ハッシュ値  \n",
       "0  矢作　直也        筑波大学    がん  931431890  \n",
       "1  鈴木　浩明  筑波大学　医学医療系    がん  931431890  \n",
       "2  特定できず       特定できず    がん  931431890  \n",
       "3  特定できず         NaN    がん  931431890  \n",
       "4  志鎌　明人    茨城県立中央病院    がん  931431890  "
      ]
     },
     "execution_count": 140,
     "metadata": {},
     "output_type": "execute_result"
    }
   ],
   "source": [
    "df.head()"
   ]
  },
  {
   "cell_type": "markdown",
   "metadata": {},
   "source": [
    "#### indexの振り直し"
   ]
  },
  {
   "cell_type": "code",
   "execution_count": 148,
   "metadata": {
    "collapsed": true
   },
   "outputs": [],
   "source": [
    "df = df.reset_index()"
   ]
  },
  {
   "cell_type": "markdown",
   "metadata": {},
   "source": [
    "## ⑧エクセルファイルに書き出し"
   ]
  },
  {
   "cell_type": "code",
   "execution_count": 149,
   "metadata": {
    "collapsed": true
   },
   "outputs": [],
   "source": [
    "df.to_excel('tate_marge.xlsx')"
   ]
  },
  {
   "cell_type": "markdown",
   "metadata": {},
   "source": [
    "# 整備"
   ]
  },
  {
   "cell_type": "markdown",
   "metadata": {},
   "source": [
    "## ①各種変数定義,製薬会社マスタ取得,いない忘れたマスタ取得，過去名寄せデータ取得"
   ]
  },
  {
   "cell_type": "markdown",
   "metadata": {},
   "source": [
    "### 1.各種変数定義"
   ]
  },
  {
   "cell_type": "code",
   "execution_count": 144,
   "metadata": {
    "collapsed": true
   },
   "outputs": [],
   "source": [
    "sensei = ['　',' ','先生','医師','教授','Dr','院長','演者',':','他','ほか','医者','部長','助教','准教授']#検索用に医師名（施設名）から取り除くリスト\n",
    "\n",
    "irekae =['院','センター','クリニック','科','大学']#検索用医師名と施設名を入れ替えるリスト\n",
    "\n",
    "MR =['-','MR','担当者','社員','メーカー']#削除フラグ用\n",
    "\n",
    "past_column = ['フラグ&レコード','回答者DCFコード','回答者DCF医師名','回答者DCF施設コード',\n",
    "                                                           '回答者DCF施設名','データ連結週','作業者', '作業日']#<-要変更\n",
    "\n",
    "rename_list = [\"公立大学法人\", \"公益財団法人\", \"社会福祉法人\", \"社会医療法人\", \"国立研究開発法人\", \"一般社団法人\", \"独立行政法人\",\n",
    "               \"医療法人\", \"社団法人\", \"社団\", \"学校法人\", \"学校法人\", \"国立大学法人\", \"医学部附属病院\", \n",
    "               \"医学部\", \"附属病院\", \"附属\", \"財団\",\"（医）\",\"（医社）\",\"国立病院機構\"]#検索用施設名から除くリスト"
   ]
  },
  {
   "cell_type": "markdown",
   "metadata": {},
   "source": [
    "### 2.製薬会社一覧取得"
   ]
  },
  {
   "cell_type": "code",
   "execution_count": 145,
   "metadata": {
    "collapsed": true
   },
   "outputs": [],
   "source": [
    "df_seiyaku = pd.read_csv('seiyaku.csv',encoding ='cp932')"
   ]
  },
  {
   "cell_type": "markdown",
   "metadata": {},
   "source": [
    "#### 製薬の一列目を半角小文字に統一"
   ]
  },
  {
   "cell_type": "code",
   "execution_count": null,
   "metadata": {
    "collapsed": true
   },
   "outputs": [],
   "source": [
    "df_seiyaku['一列目'] = df_seiyaku['一列目']str.lower()"
   ]
  },
  {
   "cell_type": "markdown",
   "metadata": {},
   "source": [
    "# 3.!!!いない，忘れたマスタを取得とは？"
   ]
  },
  {
   "cell_type": "markdown",
   "metadata": {},
   "source": [
    "### 4.前週までに名寄せしたものを取得"
   ]
  },
  {
   "cell_type": "code",
   "execution_count": 63,
   "metadata": {},
   "outputs": [],
   "source": [
    "df_past = pd.read_excel('kakonayose.xlsx' ,usecols=past_column)"
   ]
  },
  {
   "cell_type": "markdown",
   "metadata": {},
   "source": [
    "## ②過去名寄せデータとの比較，名寄せられていないデータのみ取得"
   ]
  },
  {
   "cell_type": "code",
   "execution_count": 158,
   "metadata": {},
   "outputs": [],
   "source": [
    "df_new = df[~df['フラグ&レコード'].isin(df_past['フラグ&レコード'])]"
   ]
  },
  {
   "cell_type": "markdown",
   "metadata": {},
   "source": [
    "### *連結週，作業者・作業日の作成"
   ]
  },
  {
   "cell_type": "markdown",
   "metadata": {
    "collapsed": true
   },
   "source": [
    "## ③検索用医師名，検索用施設名の作成"
   ]
  },
  {
   "cell_type": "markdown",
   "metadata": {},
   "source": [
    "### 1.大学以降の余分な成分を取り除く，大学前に余分な成分が含まれている場合もrename_listを参照して取り除く"
   ]
  },
  {
   "cell_type": "code",
   "execution_count": 155,
   "metadata": {},
   "outputs": [],
   "source": [
    "df['講演者の所属施設'] = df['講演者の所属施設'].astype(str)\n",
    "df['講演者'] = df['講演者'].astype(str)"
   ]
  },
  {
   "cell_type": "code",
   "execution_count": 156,
   "metadata": {},
   "outputs": [],
   "source": [
    "for i,name in enumerate(df['講演者の所属施設']):\n",
    "    df.loc[i,'検索用施設名_正規化'] = re.sub(r'(.*大学).*', r'\\1', name)\n",
    "for i,name in enumerate(df['講演者']):\n",
    "    df.loc[i,'検索用医師名_正規化'] = re.sub(r'(.*大学).*', r'\\1', name)\n",
    "for target_char in rename_list:\n",
    "    df['検索用施設名_正規化'] = df['検索用施設名_正規化'].str.replace(target_char, '')\n",
    "for target_char in rename_list:\n",
    "    df['検索用医師名_正規化'] = df['検索用医師名_正規化'].str.replace(target_char, '')"
   ]
  },
  {
   "cell_type": "markdown",
   "metadata": {},
   "source": [
    "### 2.正規化ファイルの読み込み,辞書ファイルを作成"
   ]
  },
  {
   "cell_type": "code",
   "execution_count": 157,
   "metadata": {},
   "outputs": [],
   "source": [
    "import csv\n",
    "dict = {}\n",
    "with open('seikika.csv',encoding='cp932') as f:\n",
    "    reader = csv.reader(f)\n",
    "    header = next(reader)\n",
    "    for row in reader:\n",
    "        dict[row[0]] =row[1]\n",
    "\n",
    "#for key, value in dict.items():\n",
    "    #print('{}: {}'.format(key, value))  "
   ]
  },
  {
   "cell_type": "markdown",
   "metadata": {},
   "source": [
    "#### 正規化ファイルを用いて講演者の所属施設と講演者を正規化"
   ]
  },
  {
   "cell_type": "code",
   "execution_count": 80,
   "metadata": {},
   "outputs": [],
   "source": [
    "df['検索用施設名_正規化'] = df['講演者の所属施設'].replace(dict)\n",
    "df['検索用医師名_正規化'] = df['講演者'].replace(dict)"
   ]
  },
  {
   "cell_type": "markdown",
   "metadata": {},
   "source": [
    "### 3.検索用医師名から余分な要素を取り除く"
   ]
  },
  {
   "cell_type": "markdown",
   "metadata": {},
   "source": [
    "### 4.検索用医師名と検索用施設名が入れ替わっているものを入れ替える"
   ]
  },
  {
   "cell_type": "markdown",
   "metadata": {},
   "source": [
    "## ④各種フラグ立て"
   ]
  },
  {
   "cell_type": "markdown",
   "metadata": {},
   "source": [
    "### 4444444のフラグ"
   ]
  },
  {
   "cell_type": "markdown",
   "metadata": {},
   "source": [
    "### 5555555のフラグ"
   ]
  },
  {
   "cell_type": "markdown",
   "metadata": {},
   "source": [
    "### 6666666のフラグ"
   ]
  },
  {
   "cell_type": "markdown",
   "metadata": {},
   "source": [
    "### 7777777のフラグ"
   ]
  },
  {
   "cell_type": "markdown",
   "metadata": {},
   "source": [
    "### 8888888のフラグ"
   ]
  }
 ],
 "metadata": {
  "kernelspec": {
   "display_name": "Python 3",
   "language": "python",
   "name": "python3"
  },
  "language_info": {
   "codemirror_mode": {
    "name": "ipython",
    "version": 3
   },
   "file_extension": ".py",
   "mimetype": "text/x-python",
   "name": "python",
   "nbconvert_exporter": "python",
   "pygments_lexer": "ipython3",
   "version": "3.6.3"
  }
 },
 "nbformat": 4,
 "nbformat_minor": 2
}
