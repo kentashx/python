{
 "cells": [
  {
   "cell_type": "markdown",
   "metadata": {
    "collapsed": true
   },
   "source": [
    "#このコードは任意のcsvファイルの任意のカラムからデータベースを作成します．\n",
    "そして，そのデータベースを用いて，データベースの対象カラムに一致し，なおかつ検索用名前の一部分が含まれる時，データベースから名前の全部分を返します．\n",
    "ただし，条件を満たす名前が複数存在した時は，データベースの出現回数で場合分けします．"
   ]
  },
  {
   "cell_type": "code",
   "execution_count": 214,
   "metadata": {
    "collapsed": true
   },
   "outputs": [],
   "source": [
    "import pandas as pd\n",
    "from pandas import DataFrame\n",
    "thr = 0\n",
    "#thr　は閾値"
   ]
  },
  {
   "cell_type": "code",
   "execution_count": 215,
   "metadata": {
    "collapsed": true
   },
   "outputs": [],
   "source": [
    "df_origin =pd.read_csv('test.csv')"
   ]
  },
  {
   "cell_type": "code",
   "execution_count": 216,
   "metadata": {
    "collapsed": true
   },
   "outputs": [],
   "source": [
    "df1 = pd.DataFrame({ '医師コード' :df_origin['医師コード'],\n",
    "                                    '医師名': df_origin['医師名'],\n",
    "                                    '対象薬品': df_origin['対象薬品'],\n",
    "                                    '対象領域': df_origin['対象領域']})"
   ]
  },
  {
   "cell_type": "code",
   "execution_count": 217,
   "metadata": {
    "collapsed": true
   },
   "outputs": [],
   "source": [
    "df1 = df.fillna(0)"
   ]
  },
  {
   "cell_type": "code",
   "execution_count": 218,
   "metadata": {},
   "outputs": [
    {
     "data": {
      "text/html": [
       "<div>\n",
       "<style>\n",
       "    .dataframe thead tr:only-child th {\n",
       "        text-align: right;\n",
       "    }\n",
       "\n",
       "    .dataframe thead th {\n",
       "        text-align: left;\n",
       "    }\n",
       "\n",
       "    .dataframe tbody tr th {\n",
       "        vertical-align: top;\n",
       "    }\n",
       "</style>\n",
       "<table border=\"1\" class=\"dataframe\">\n",
       "  <thead>\n",
       "    <tr style=\"text-align: right;\">\n",
       "      <th></th>\n",
       "      <th>名前</th>\n",
       "      <th>携帯番号</th>\n",
       "      <th>生年月日</th>\n",
       "      <th>郵便番号</th>\n",
       "      <th>dup</th>\n",
       "    </tr>\n",
       "  </thead>\n",
       "  <tbody>\n",
       "    <tr>\n",
       "      <th>0</th>\n",
       "      <td>渋谷 波子</td>\n",
       "      <td>090-6335-3557</td>\n",
       "      <td>1983/3/4</td>\n",
       "      <td>019-0532</td>\n",
       "      <td>3</td>\n",
       "    </tr>\n",
       "    <tr>\n",
       "      <th>1</th>\n",
       "      <td>清水 憲広</td>\n",
       "      <td>090-1642-6380</td>\n",
       "      <td>1980/3/21</td>\n",
       "      <td>861-8006</td>\n",
       "      <td>3</td>\n",
       "    </tr>\n",
       "    <tr>\n",
       "      <th>2</th>\n",
       "      <td>平川 茂俊</td>\n",
       "      <td>070-8981-4078</td>\n",
       "      <td>1982/1/14</td>\n",
       "      <td>100-1701</td>\n",
       "      <td>3</td>\n",
       "    </tr>\n",
       "    <tr>\n",
       "      <th>3</th>\n",
       "      <td>向井 智子</td>\n",
       "      <td>070-9618-5196</td>\n",
       "      <td>1983/7/21</td>\n",
       "      <td>744-0075</td>\n",
       "      <td>3</td>\n",
       "    </tr>\n",
       "    <tr>\n",
       "      <th>4</th>\n",
       "      <td>菅野 美砂</td>\n",
       "      <td>090-4625-2156</td>\n",
       "      <td>1992/11/28</td>\n",
       "      <td>510-0201</td>\n",
       "      <td>3</td>\n",
       "    </tr>\n",
       "  </tbody>\n",
       "</table>\n",
       "</div>"
      ],
      "text/plain": [
       "      名前            携帯番号        生年月日      郵便番号  dup\n",
       "0  渋谷 波子  090-6335-3557     1983/3/4  019-0532    3\n",
       "1  清水 憲広  090-1642-6380    1980/3/21  861-8006    3\n",
       "2  平川 茂俊  070-8981-4078    1982/1/14  100-1701    3\n",
       "3  向井 智子  070-9618-5196    1983/7/21  744-0075    3\n",
       "4  菅野 美砂  090-4625-2156   1992/11/28  510-0201    3"
      ]
     },
     "execution_count": 218,
     "metadata": {},
     "output_type": "execute_result"
    }
   ],
   "source": [
    "df1.head()"
   ]
  },
  {
   "cell_type": "code",
   "execution_count": 219,
   "metadata": {
    "collapsed": true
   },
   "outputs": [],
   "source": [
    "df1['dup'] = df.groupby(['医師コード','医師名','対象薬品','対象領域'])['医師コード'].transform('count')"
   ]
  },
  {
   "cell_type": "markdown",
   "metadata": {},
   "source": [
    "#重複行のカウント"
   ]
  },
  {
   "cell_type": "code",
   "execution_count": 220,
   "metadata": {
    "collapsed": true
   },
   "outputs": [],
   "source": [
    "df1 =df.drop_duplicates(['医師コード','医師名','対象薬品','対象領域','dup'])"
   ]
  },
  {
   "cell_type": "code",
   "execution_count": 221,
   "metadata": {},
   "outputs": [
    {
     "data": {
      "text/html": [
       "<div>\n",
       "<style>\n",
       "    .dataframe thead tr:only-child th {\n",
       "        text-align: right;\n",
       "    }\n",
       "\n",
       "    .dataframe thead th {\n",
       "        text-align: left;\n",
       "    }\n",
       "\n",
       "    .dataframe tbody tr th {\n",
       "        vertical-align: top;\n",
       "    }\n",
       "</style>\n",
       "<table border=\"1\" class=\"dataframe\">\n",
       "  <thead>\n",
       "    <tr style=\"text-align: right;\">\n",
       "      <th></th>\n",
       "      <th>名前</th>\n",
       "      <th>携帯番号</th>\n",
       "      <th>生年月日</th>\n",
       "      <th>郵便番号</th>\n",
       "      <th>dup</th>\n",
       "    </tr>\n",
       "  </thead>\n",
       "  <tbody>\n",
       "    <tr>\n",
       "      <th>0</th>\n",
       "      <td>渋谷 波子</td>\n",
       "      <td>090-6335-3557</td>\n",
       "      <td>1983/3/4</td>\n",
       "      <td>019-0532</td>\n",
       "      <td>3</td>\n",
       "    </tr>\n",
       "    <tr>\n",
       "      <th>1</th>\n",
       "      <td>清水 憲広</td>\n",
       "      <td>090-1642-6380</td>\n",
       "      <td>1980/3/21</td>\n",
       "      <td>861-8006</td>\n",
       "      <td>3</td>\n",
       "    </tr>\n",
       "    <tr>\n",
       "      <th>2</th>\n",
       "      <td>平川 茂俊</td>\n",
       "      <td>070-8981-4078</td>\n",
       "      <td>1982/1/14</td>\n",
       "      <td>100-1701</td>\n",
       "      <td>3</td>\n",
       "    </tr>\n",
       "    <tr>\n",
       "      <th>3</th>\n",
       "      <td>向井 智子</td>\n",
       "      <td>070-9618-5196</td>\n",
       "      <td>1983/7/21</td>\n",
       "      <td>744-0075</td>\n",
       "      <td>3</td>\n",
       "    </tr>\n",
       "    <tr>\n",
       "      <th>4</th>\n",
       "      <td>菅野 美砂</td>\n",
       "      <td>090-4625-2156</td>\n",
       "      <td>1992/11/28</td>\n",
       "      <td>510-0201</td>\n",
       "      <td>3</td>\n",
       "    </tr>\n",
       "  </tbody>\n",
       "</table>\n",
       "</div>"
      ],
      "text/plain": [
       "      名前            携帯番号        生年月日      郵便番号  dup\n",
       "0  渋谷 波子  090-6335-3557     1983/3/4  019-0532    3\n",
       "1  清水 憲広  090-1642-6380    1980/3/21  861-8006    3\n",
       "2  平川 茂俊  070-8981-4078    1982/1/14  100-1701    3\n",
       "3  向井 智子  070-9618-5196    1983/7/21  744-0075    3\n",
       "4  菅野 美砂  090-4625-2156   1992/11/28  510-0201    3"
      ]
     },
     "execution_count": 221,
     "metadata": {},
     "output_type": "execute_result"
    }
   ],
   "source": [
    "df1.head()"
   ]
  },
  {
   "cell_type": "code",
   "execution_count": 222,
   "metadata": {
    "collapsed": true
   },
   "outputs": [],
   "source": [
    "df1.to_excel(\"test_out2.xlsx\")"
   ]
  },
  {
   "cell_type": "markdown",
   "metadata": {},
   "source": [
    "#ここままででデータベース作り終了"
   ]
  },
  {
   "cell_type": "code",
   "execution_count": 223,
   "metadata": {
    "collapsed": true
   },
   "outputs": [],
   "source": [
    "df_search = pd.read_excel('test2.xlsx')"
   ]
  },
  {
   "cell_type": "markdown",
   "metadata": {},
   "source": [
    "#検索対象となるエクセルファイルの読み込み"
   ]
  },
  {
   "cell_type": "code",
   "execution_count": 224,
   "metadata": {},
   "outputs": [
    {
     "data": {
      "text/html": [
       "<div>\n",
       "<style>\n",
       "    .dataframe thead tr:only-child th {\n",
       "        text-align: right;\n",
       "    }\n",
       "\n",
       "    .dataframe thead th {\n",
       "        text-align: left;\n",
       "    }\n",
       "\n",
       "    .dataframe tbody tr th {\n",
       "        vertical-align: top;\n",
       "    }\n",
       "</style>\n",
       "<table border=\"1\" class=\"dataframe\">\n",
       "  <thead>\n",
       "    <tr style=\"text-align: right;\">\n",
       "      <th></th>\n",
       "      <th>名前</th>\n",
       "      <th>名前フリガナ</th>\n",
       "      <th>性別</th>\n",
       "      <th>血液型</th>\n",
       "      <th>生年月日</th>\n",
       "      <th>電話番号</th>\n",
       "      <th>携帯番号</th>\n",
       "      <th>メール</th>\n",
       "      <th>郵便番号</th>\n",
       "      <th>住所</th>\n",
       "      <th>住所フリガナ</th>\n",
       "    </tr>\n",
       "  </thead>\n",
       "  <tbody>\n",
       "    <tr>\n",
       "      <th>0</th>\n",
       "      <td>渋谷</td>\n",
       "      <td>シブタニ ナミコ</td>\n",
       "      <td>女</td>\n",
       "      <td>A</td>\n",
       "      <td>1983-03-04</td>\n",
       "      <td>0182-53-0568</td>\n",
       "      <td>090-6335-3557</td>\n",
       "      <td>sibutani0568@plala.or.jp</td>\n",
       "      <td>019-0532</td>\n",
       "      <td>秋田県横手市十文字町麻当4-6-9</td>\n",
       "      <td>アキタケンヨコテシジュウモンジマチマトウ</td>\n",
       "    </tr>\n",
       "    <tr>\n",
       "      <th>1</th>\n",
       "      <td>清水</td>\n",
       "      <td>シミズ ノリヒロ</td>\n",
       "      <td>男</td>\n",
       "      <td>A</td>\n",
       "      <td>1980-03-21</td>\n",
       "      <td>096-233-8646</td>\n",
       "      <td>090-1642-6380</td>\n",
       "      <td>nrhr_smz@infoseek.jp</td>\n",
       "      <td>861-8006</td>\n",
       "      <td>熊本県熊本市龍田7-3-3 龍田第1ビル 13階</td>\n",
       "      <td>クマモトケンクマモトシタツダ</td>\n",
       "    </tr>\n",
       "    <tr>\n",
       "      <th>2</th>\n",
       "      <td>須藤</td>\n",
       "      <td>ストウ トモミ</td>\n",
       "      <td>女</td>\n",
       "      <td>A</td>\n",
       "      <td>1987-05-07</td>\n",
       "      <td>025-779-5979</td>\n",
       "      <td>090-3700-9657</td>\n",
       "      <td>sutoutomomi@ybb.ne.jp</td>\n",
       "      <td>949-6433</td>\n",
       "      <td>新潟県南魚沼市泉盛寺5-7-4</td>\n",
       "      <td>ニイガタケンミナミウオヌマシセンジョウジ</td>\n",
       "    </tr>\n",
       "    <tr>\n",
       "      <th>3</th>\n",
       "      <td>竹下</td>\n",
       "      <td>タケシタ マサヒロ</td>\n",
       "      <td>男</td>\n",
       "      <td>AB</td>\n",
       "      <td>1992-04-23</td>\n",
       "      <td>0584-06-0655</td>\n",
       "      <td>NaN</td>\n",
       "      <td>takesita0655@example.gr.jp</td>\n",
       "      <td>503-1316</td>\n",
       "      <td>岐阜県養老郡養老町押越8-12-5</td>\n",
       "      <td>ギフケンヨウロウグンヨウロウチョウオシコシ</td>\n",
       "    </tr>\n",
       "    <tr>\n",
       "      <th>4</th>\n",
       "      <td>桑原</td>\n",
       "      <td>クハバラ ユキヒコ</td>\n",
       "      <td>男</td>\n",
       "      <td>O</td>\n",
       "      <td>1973-11-07</td>\n",
       "      <td>0126-76-1180</td>\n",
       "      <td>070-3069-2702</td>\n",
       "      <td>kuhabarayukihiko@geocities.com</td>\n",
       "      <td>072-0002</td>\n",
       "      <td>北海道美唄市東一条北2-14-3</td>\n",
       "      <td>ホッカイドウビバイシヒガシ１ジョウキタ</td>\n",
       "    </tr>\n",
       "  </tbody>\n",
       "</table>\n",
       "</div>"
      ],
      "text/plain": [
       "   名前     名前フリガナ 性別 血液型       生年月日          電話番号            携帯番号  \\\n",
       "0  渋谷   シブタニ ナミコ  女   A 1983-03-04  0182-53-0568  090-6335-3557    \n",
       "1  清水   シミズ ノリヒロ  男   A 1980-03-21  096-233-8646  090-1642-6380    \n",
       "2  須藤    ストウ トモミ  女   A 1987-05-07  025-779-5979  090-3700-9657    \n",
       "3  竹下  タケシタ マサヒロ  男  AB 1992-04-23  0584-06-0655             NaN   \n",
       "4  桑原  クハバラ ユキヒコ  男   O 1973-11-07  0126-76-1180  070-3069-2702    \n",
       "\n",
       "                                メール      郵便番号                        住所  \\\n",
       "0        sibutani0568@plala.or.jp    019-0532         秋田県横手市十文字町麻当4-6-9   \n",
       "1            nrhr_smz@infoseek.jp    861-8006  熊本県熊本市龍田7-3-3 龍田第1ビル 13階   \n",
       "2           sutoutomomi@ybb.ne.jp    949-6433           新潟県南魚沼市泉盛寺5-7-4   \n",
       "3      takesita0655@example.gr.jp    503-1316         岐阜県養老郡養老町押越8-12-5   \n",
       "4  kuhabarayukihiko@geocities.com    072-0002          北海道美唄市東一条北2-14-3   \n",
       "\n",
       "                  住所フリガナ  \n",
       "0   アキタケンヨコテシジュウモンジマチマトウ  \n",
       "1         クマモトケンクマモトシタツダ  \n",
       "2   ニイガタケンミナミウオヌマシセンジョウジ  \n",
       "3  ギフケンヨウロウグンヨウロウチョウオシコシ  \n",
       "4    ホッカイドウビバイシヒガシ１ジョウキタ  "
      ]
     },
     "execution_count": 224,
     "metadata": {},
     "output_type": "execute_result"
    }
   ],
   "source": [
    "df_search.head()"
   ]
  },
  {
   "cell_type": "code",
   "execution_count": 225,
   "metadata": {
    "collapsed": true
   },
   "outputs": [],
   "source": [
    "df2 = pd.DataFrame(df_search, columns = ['医師コード','医師名','対象薬品','対象領域','予測名前1','数字'])"
   ]
  },
  {
   "cell_type": "code",
   "execution_count": 226,
   "metadata": {
    "collapsed": true
   },
   "outputs": [],
   "source": [
    "df2 = df2.fillna(0)"
   ]
  },
  {
   "cell_type": "code",
   "execution_count": 227,
   "metadata": {
    "scrolled": true
   },
   "outputs": [
    {
     "data": {
      "text/html": [
       "<div>\n",
       "<style>\n",
       "    .dataframe thead tr:only-child th {\n",
       "        text-align: right;\n",
       "    }\n",
       "\n",
       "    .dataframe thead th {\n",
       "        text-align: left;\n",
       "    }\n",
       "\n",
       "    .dataframe tbody tr th {\n",
       "        vertical-align: top;\n",
       "    }\n",
       "</style>\n",
       "<table border=\"1\" class=\"dataframe\">\n",
       "  <thead>\n",
       "    <tr style=\"text-align: right;\">\n",
       "      <th></th>\n",
       "      <th>名前</th>\n",
       "      <th>携帯番号</th>\n",
       "      <th>生年月日</th>\n",
       "      <th>郵便番号</th>\n",
       "      <th>予測名前1</th>\n",
       "      <th>数字</th>\n",
       "    </tr>\n",
       "  </thead>\n",
       "  <tbody>\n",
       "    <tr>\n",
       "      <th>0</th>\n",
       "      <td>渋谷</td>\n",
       "      <td>090-6335-3557</td>\n",
       "      <td>1983-03-04</td>\n",
       "      <td>019-0532</td>\n",
       "      <td>0.0</td>\n",
       "      <td>0.0</td>\n",
       "    </tr>\n",
       "    <tr>\n",
       "      <th>1</th>\n",
       "      <td>清水</td>\n",
       "      <td>090-1642-6380</td>\n",
       "      <td>1980-03-21</td>\n",
       "      <td>861-8006</td>\n",
       "      <td>0.0</td>\n",
       "      <td>0.0</td>\n",
       "    </tr>\n",
       "    <tr>\n",
       "      <th>2</th>\n",
       "      <td>須藤</td>\n",
       "      <td>090-3700-9657</td>\n",
       "      <td>1987-05-07</td>\n",
       "      <td>949-6433</td>\n",
       "      <td>0.0</td>\n",
       "      <td>0.0</td>\n",
       "    </tr>\n",
       "    <tr>\n",
       "      <th>3</th>\n",
       "      <td>竹下</td>\n",
       "      <td>0</td>\n",
       "      <td>1992-04-23</td>\n",
       "      <td>503-1316</td>\n",
       "      <td>0.0</td>\n",
       "      <td>0.0</td>\n",
       "    </tr>\n",
       "    <tr>\n",
       "      <th>4</th>\n",
       "      <td>桑原</td>\n",
       "      <td>070-3069-2702</td>\n",
       "      <td>1973-11-07</td>\n",
       "      <td>072-0002</td>\n",
       "      <td>0.0</td>\n",
       "      <td>0.0</td>\n",
       "    </tr>\n",
       "    <tr>\n",
       "      <th>5</th>\n",
       "      <td>小森</td>\n",
       "      <td>090-0452-9763</td>\n",
       "      <td>1981-06-07</td>\n",
       "      <td>881-0101</td>\n",
       "      <td>0.0</td>\n",
       "      <td>0.0</td>\n",
       "    </tr>\n",
       "    <tr>\n",
       "      <th>6</th>\n",
       "      <td>鈴木</td>\n",
       "      <td>090-4960-0320</td>\n",
       "      <td>1978-07-03</td>\n",
       "      <td>916-1232</td>\n",
       "      <td>0.0</td>\n",
       "      <td>0.0</td>\n",
       "    </tr>\n",
       "  </tbody>\n",
       "</table>\n",
       "</div>"
      ],
      "text/plain": [
       "   名前            携帯番号       生年月日      郵便番号  予測名前1   数字\n",
       "0  渋谷  090-6335-3557  1983-03-04  019-0532    0.0  0.0\n",
       "1  清水  090-1642-6380  1980-03-21  861-8006    0.0  0.0\n",
       "2  須藤  090-3700-9657  1987-05-07  949-6433    0.0  0.0\n",
       "3  竹下               0 1992-04-23  503-1316    0.0  0.0\n",
       "4  桑原  070-3069-2702  1973-11-07  072-0002    0.0  0.0\n",
       "5  小森  090-0452-9763  1981-06-07  881-0101    0.0  0.0\n",
       "6  鈴木  090-4960-0320  1978-07-03  916-1232    0.0  0.0"
      ]
     },
     "execution_count": 227,
     "metadata": {},
     "output_type": "execute_result"
    }
   ],
   "source": [
    "df2"
   ]
  },
  {
   "cell_type": "code",
   "execution_count": 228,
   "metadata": {
    "collapsed": true
   },
   "outputs": [],
   "source": [
    "length_df2 = len(df2.index)"
   ]
  },
  {
   "cell_type": "code",
   "execution_count": 229,
   "metadata": {
    "collapsed": true
   },
   "outputs": [],
   "source": [
    "length_df_origin = len(re_def.index)"
   ]
  },
  {
   "cell_type": "code",
   "execution_count": 230,
   "metadata": {
    "collapsed": true
   },
   "outputs": [],
   "source": [
    "for i in range(length_df2):\n",
    "    for j in range(length_df_origin):\n",
    "        if (df2.loc[i,'対象薬品'] == df1.loc[j,'対象薬品']) and (df2.loc[i,'対象領域'] == df1.loc[j,'対象領域']) and (df2.loc[i,'名前'] in df1.loc[j,'名前']) and (df1.loc[j,'dup'] > thr) and (df1.loc[j,'dup']>df2.loc[i,'数字']):\n",
    "             df2.loc[i,'予測名前1'] = df1.loc[j,'名前']\n",
    "             df2.loc[i,'数字'] = df1.loc[j,'dup']"
   ]
  },
  {
   "cell_type": "code",
   "execution_count": 231,
   "metadata": {},
   "outputs": [
    {
     "data": {
      "text/html": [
       "<div>\n",
       "<style>\n",
       "    .dataframe thead tr:only-child th {\n",
       "        text-align: right;\n",
       "    }\n",
       "\n",
       "    .dataframe thead th {\n",
       "        text-align: left;\n",
       "    }\n",
       "\n",
       "    .dataframe tbody tr th {\n",
       "        vertical-align: top;\n",
       "    }\n",
       "</style>\n",
       "<table border=\"1\" class=\"dataframe\">\n",
       "  <thead>\n",
       "    <tr style=\"text-align: right;\">\n",
       "      <th></th>\n",
       "      <th>名前</th>\n",
       "      <th>携帯番号</th>\n",
       "      <th>生年月日</th>\n",
       "      <th>郵便番号</th>\n",
       "      <th>予測名前1</th>\n",
       "      <th>数字</th>\n",
       "    </tr>\n",
       "  </thead>\n",
       "  <tbody>\n",
       "    <tr>\n",
       "      <th>0</th>\n",
       "      <td>渋谷</td>\n",
       "      <td>090-6335-3557</td>\n",
       "      <td>1983-03-04</td>\n",
       "      <td>019-0532</td>\n",
       "      <td>渋谷 波子</td>\n",
       "      <td>3.0</td>\n",
       "    </tr>\n",
       "    <tr>\n",
       "      <th>1</th>\n",
       "      <td>清水</td>\n",
       "      <td>090-1642-6380</td>\n",
       "      <td>1980-03-21</td>\n",
       "      <td>861-8006</td>\n",
       "      <td>清水 憲広</td>\n",
       "      <td>3.0</td>\n",
       "    </tr>\n",
       "    <tr>\n",
       "      <th>2</th>\n",
       "      <td>須藤</td>\n",
       "      <td>090-3700-9657</td>\n",
       "      <td>1987-05-07</td>\n",
       "      <td>949-6433</td>\n",
       "      <td>須藤 知実</td>\n",
       "      <td>1.0</td>\n",
       "    </tr>\n",
       "    <tr>\n",
       "      <th>3</th>\n",
       "      <td>竹下</td>\n",
       "      <td>0</td>\n",
       "      <td>1992-04-23</td>\n",
       "      <td>503-1316</td>\n",
       "      <td>竹下 政広</td>\n",
       "      <td>1.0</td>\n",
       "    </tr>\n",
       "    <tr>\n",
       "      <th>4</th>\n",
       "      <td>桑原</td>\n",
       "      <td>070-3069-2702</td>\n",
       "      <td>1973-11-07</td>\n",
       "      <td>072-0002</td>\n",
       "      <td>桑原 由記彦</td>\n",
       "      <td>1.0</td>\n",
       "    </tr>\n",
       "    <tr>\n",
       "      <th>5</th>\n",
       "      <td>小森</td>\n",
       "      <td>090-0452-9763</td>\n",
       "      <td>1981-06-07</td>\n",
       "      <td>881-0101</td>\n",
       "      <td>小森 勝英</td>\n",
       "      <td>2.0</td>\n",
       "    </tr>\n",
       "    <tr>\n",
       "      <th>6</th>\n",
       "      <td>鈴木</td>\n",
       "      <td>090-4960-0320</td>\n",
       "      <td>1978-07-03</td>\n",
       "      <td>916-1232</td>\n",
       "      <td>鈴木 八洲子</td>\n",
       "      <td>2.0</td>\n",
       "    </tr>\n",
       "  </tbody>\n",
       "</table>\n",
       "</div>"
      ],
      "text/plain": [
       "   名前            携帯番号       生年月日      郵便番号   予測名前1   数字\n",
       "0  渋谷  090-6335-3557  1983-03-04  019-0532   渋谷 波子  3.0\n",
       "1  清水  090-1642-6380  1980-03-21  861-8006   清水 憲広  3.0\n",
       "2  須藤  090-3700-9657  1987-05-07  949-6433   須藤 知実  1.0\n",
       "3  竹下               0 1992-04-23  503-1316   竹下 政広  1.0\n",
       "4  桑原  070-3069-2702  1973-11-07  072-0002  桑原 由記彦  1.0\n",
       "5  小森  090-0452-9763  1981-06-07  881-0101   小森 勝英  2.0\n",
       "6  鈴木  090-4960-0320  1978-07-03  916-1232  鈴木 八洲子  2.0"
      ]
     },
     "execution_count": 231,
     "metadata": {},
     "output_type": "execute_result"
    }
   ],
   "source": [
    "df2"
   ]
  },
  {
   "cell_type": "code",
   "execution_count": null,
   "metadata": {
    "collapsed": true
   },
   "outputs": [],
   "source": [
    "df2.to_excel(\"matching_past.xlsx\")"
   ]
  }
 ],
 "metadata": {
  "kernelspec": {
   "display_name": "Python 3",
   "language": "python",
   "name": "python3"
  },
  "language_info": {
   "codemirror_mode": {
    "name": "ipython",
    "version": 3
   },
   "file_extension": ".py",
   "mimetype": "text/x-python",
   "name": "python",
   "nbconvert_exporter": "python",
   "pygments_lexer": "ipython3",
   "version": "3.6.3"
  }
 },
 "nbformat": 4,
 "nbformat_minor": 2
}
