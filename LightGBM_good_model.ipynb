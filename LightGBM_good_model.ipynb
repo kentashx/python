{
  "nbformat": 4,
  "nbformat_minor": 0,
  "metadata": {
    "kernelspec": {
      "display_name": "Python 3",
      "language": "python",
      "name": "python3"
    },
    "language_info": {
      "codemirror_mode": {
        "name": "ipython",
        "version": 3
      },
      "file_extension": ".py",
      "mimetype": "text/x-python",
      "name": "python",
      "nbconvert_exporter": "python",
      "pygments_lexer": "ipython3",
      "version": "3.6.4"
    },
    "latex_envs": {
      "LaTeX_envs_menu_present": true,
      "autoclose": false,
      "autocomplete": true,
      "bibliofile": "biblio.bib",
      "cite_by": "apalike",
      "current_citInitial": 1,
      "eqLabelWithNumbers": true,
      "eqNumInitial": 1,
      "hotkeys": {
        "equation": "Ctrl-E",
        "itemize": "Ctrl-I"
      },
      "labels_anchors": false,
      "latex_user_defs": false,
      "report_style_numbering": false,
      "user_envs_cfg": false
    },
    "toc": {
      "base_numbering": 1,
      "nav_menu": {},
      "number_sections": true,
      "sideBar": true,
      "skip_h1_title": false,
      "title_cell": "Table of Contents",
      "title_sidebar": "Contents",
      "toc_cell": false,
      "toc_position": {
        "height": "calc(100% - 180px)",
        "left": "10px",
        "top": "150px",
        "width": "384px"
      },
      "toc_section_display": true,
      "toc_window_display": true
    },
    "colab": {
      "name": "LightGBM_good_model.ipynb",
      "provenance": []
    }
  },
  "cells": [
    {
      "cell_type": "code",
      "metadata": {
        "ExecuteTime": {
          "end_time": "2018-09-27T08:54:27.596376Z",
          "start_time": "2018-09-27T08:54:26.792527Z"
        },
        "id": "vsXr-brwpDGQ",
        "colab_type": "code",
        "colab": {}
      },
      "source": [
        "import re\n",
        "import numpy as np\n",
        "import pandas as pd\n",
        "import matplotlib.pyplot as plt\n",
        "import seaborn as sns\n",
        "#CHECK:ライブラリがインストールされているか->OK\n",
        "from sklearn.ensemble import RandomForestRegressor\n",
        "from sklearn.metrics import mean_squared_error, mean_squared_log_error\n",
        "from sklearn.metrics import make_scorer, mean_squared_error,accuracy_score\n",
        "from sklearn.model_selection import GridSearchCV,RandomizedSearchCV\n",
        "from tqdm import tqdm\n",
        "import lightgbm as lgb\n",
        "import matplotlib as mpl\n",
        "import warnings\n",
        "warnings.filterwarnings('ignore')"
      ],
      "execution_count": null,
      "outputs": []
    },
    {
      "cell_type": "code",
      "metadata": {
        "id": "5fcPAucnpDGT",
        "colab_type": "code",
        "colab": {}
      },
      "source": [
        "import xgboost as xgb"
      ],
      "execution_count": null,
      "outputs": []
    },
    {
      "cell_type": "code",
      "metadata": {
        "id": "EZpM_0KqpDGV",
        "colab_type": "code",
        "colab": {}
      },
      "source": [
        "google_colab = 0\n",
        "output_name = \"1119\"\n",
        "result_name = \"1119_lightgbm_test1\""
      ],
      "execution_count": null,
      "outputs": []
    },
    {
      "cell_type": "markdown",
      "metadata": {
        "id": "5v2UvMrdpDGY",
        "colab_type": "text"
      },
      "source": [
        "# CSVをDataFrameに変換"
      ]
    },
    {
      "cell_type": "code",
      "metadata": {
        "id": "KYKLFVAspDGY",
        "colab_type": "code",
        "colab": {}
      },
      "source": [
        "ex_match_df = pd.read_csv(\"../../data/scrayping/ex_match_reports.csv\")"
      ],
      "execution_count": null,
      "outputs": []
    },
    {
      "cell_type": "code",
      "metadata": {
        "id": "iwLOZ8b4pDGa",
        "colab_type": "code",
        "colab": {}
      },
      "source": [
        "ex_total_df = pd.read_csv(\"../../data/scrayping/ex_total.csv\")"
      ],
      "execution_count": null,
      "outputs": []
    },
    {
      "cell_type": "code",
      "metadata": {
        "ExecuteTime": {
          "end_time": "2018-09-27T08:54:27.674168Z",
          "start_time": "2018-09-27T08:54:27.610340Z"
        },
        "id": "_s5W4s7YpDGd",
        "colab_type": "code",
        "colab": {}
      },
      "source": [
        "#csvファイルから読み込み，データフレームに格納\n",
        "#csvファイルから読み込み，データフレームに格納\n",
        "if google_colab == 1:\n",
        "    # ローカルファイルを直接アップロードする\n",
        "    from google.colab import files\n",
        "    uploaded = files.upload()\n",
        "    !pip install lightgbm\n",
        "    train_df = pd.read_csv(\"train.csv\")\n",
        "    test_df = pd.read_csv(\"test.csv\",encoding = \"shift_jis\")\n",
        "    match_df = pd.read_csv(\"match_reports.csv\")\n",
        "    holiday_df = pd.read_csv(\"holidays_in_japan.csv\")\n",
        "    smpsb_df = pd.read_csv(\"sample_submit.csv\", header=None)\n",
        "    stadium_df = pd.read_csv(\"stadium_capacity_mapping.csv\")\n",
        "    j2_df = pd.read_csv(\"fromj2.csv\")\n",
        "    twitter_df = pd.read_csv(\"twitter.csv\",encoding='shift_jis')\n",
        "    money_rank_df = pd.read_csv(\"money_rank2.csv\",encoding='shift_jis')\n",
        "else:\n",
        "    train_df = pd.read_csv(\"../../data/train.csv\")\n",
        "    test_df = pd.read_csv(\"../../data/test (1).csv\")\n",
        "    match_df = pd.read_csv(\"../../data/match_reports.csv\")\n",
        "    holiday_df = pd.read_csv(\"../../data/holidays_in_japan.csv\")\n",
        "    smpsb_df = pd.read_csv(\"../../data/sample_submit.csv\", header=None)\n",
        "    stadium_df = pd.read_csv(\"../../data/stadium_capacity_mapping.csv\",encoding='shift_jis')\n",
        "    j2_df = pd.read_csv(\"../../data/fromj2.csv\")\n",
        "    twitter_df = pd.read_csv(\"../../data/twitter.csv\",encoding='shift_jis')\n",
        "    money_rank_df = pd.read_csv(\"../../data/money_rank2.csv\",encoding='shift_jis')"
      ],
      "execution_count": null,
      "outputs": []
    },
    {
      "cell_type": "code",
      "metadata": {
        "id": "vFh-SwTNpDGf",
        "colab_type": "code",
        "colab": {}
      },
      "source": [
        "twitter_df = twitter_df.fillna(twitter_df[\"follower\"].mean())\n",
        "twitter_df[\"start_month\"] = pd.to_datetime(twitter_df[\"start\"]).dt.year\n",
        "twitter_df[\"duration\"] = 2018-twitter_df[\"start_month\"]\n",
        "twitter_df[\"follower_per_year\"] = twitter_df[\"follower\"]/twitter_df[\"duration\"]\n",
        "twitter_df[\"follower_per_year\"] = twitter_df[\"follower_per_year\"].astype(int)"
      ],
      "execution_count": null,
      "outputs": []
    },
    {
      "cell_type": "code",
      "metadata": {
        "id": "di-hTj7bpDGh",
        "colab_type": "code",
        "colab": {}
      },
      "source": [
        "# まとめて処理を行いたいので、データフレームを一つにまとめる\n",
        "target = train_df[\"attendance\"]\n",
        "total_df = pd.concat([train_df.drop(\"attendance\", axis=1), test_df])"
      ],
      "execution_count": null,
      "outputs": []
    },
    {
      "cell_type": "code",
      "metadata": {
        "id": "mbaRdhKSpDGo",
        "colab_type": "code",
        "colab": {},
        "outputId": "7ebdf2f9-e531-48dc-f53e-da6f74ce5b8f"
      },
      "source": [
        "total_df.info()"
      ],
      "execution_count": null,
      "outputs": [
        {
          "output_type": "stream",
          "text": [
            "<class 'pandas.core.frame.DataFrame'>\n",
            "Int64Index: 3843 entries, 0 to 476\n",
            "Data columns (total 12 columns):\n",
            "id               3843 non-null int64\n",
            "match_date       3843 non-null object\n",
            "kick_off_time    3843 non-null object\n",
            "section          3843 non-null object\n",
            "round            3843 non-null object\n",
            "home_team        3843 non-null object\n",
            "away_team        3843 non-null object\n",
            "venue            3843 non-null object\n",
            "weather          3843 non-null object\n",
            "temperature      3843 non-null float64\n",
            "humidity         3843 non-null int64\n",
            "broadcasters     3843 non-null object\n",
            "dtypes: float64(1), int64(2), object(9)\n",
            "memory usage: 390.3+ KB\n"
          ],
          "name": "stdout"
        }
      ]
    },
    {
      "cell_type": "markdown",
      "metadata": {
        "id": "QMKUF6oipDGq",
        "colab_type": "text"
      },
      "source": [
        ""
      ]
    },
    {
      "cell_type": "markdown",
      "metadata": {
        "id": "w_xhe5mspDGr",
        "colab_type": "text"
      },
      "source": [
        "## 日付の処理"
      ]
    },
    {
      "cell_type": "code",
      "metadata": {
        "ExecuteTime": {
          "end_time": "2018-09-27T08:54:27.861667Z",
          "start_time": "2018-09-27T08:54:27.699103Z"
        },
        "id": "sBAA6JE0pDGr",
        "colab_type": "code",
        "colab": {}
      },
      "source": [
        "#CHECK:datetime型とは？->年月，日，秒を扱いやすくする\n",
        "#日付をどのように扱いやすくなるのか？->年月日分が混在してるデータから独立して年月日分を取り出すことが可能\n",
        "#CHECK:df.loc[:,\"hoge\"]は列の指定？df.loc[\"hoge\"]とどう違うのか？→前者は列の指定，後者は行の指定\n",
        "# datetime型に変換\n",
        "total_df.loc[:, \"match_date\"] = pd.to_datetime(total_df[\"match_date\"])\n",
        "total_df.loc[:, \"kick_off_time\"] = pd.to_datetime(total_df[\"kick_off_time\"])\n",
        "holiday_df[\"holiday_date\"] = pd.to_datetime(holiday_df[\"holiday_date\"])\n",
        "\n",
        "total_df[\"match_date_year\"] = total_df[\"match_date\"].dt.year\n",
        "total_df[\"match_date_month\"] = total_df[\"match_date\"].dt.month\n",
        "total_df[\"match_date_day\"] = total_df[\"match_date\"].dt.day\n",
        "total_df[\"match_date_dayofweek\"] = total_df[\"match_date\"].dt.dayofweek  # Monday=0, Sunday=6\n",
        "\n",
        "# 祝日の判定\n",
        "holiday_df[\"match_date_is_holiday\"] = 1\n",
        "#CHECK:concatとmergeの違いってなんだっけ？祝日の列を作り，祝日レコードには1を入れ，それ以外は0\n",
        "#->df.mergeは，rightに結合したいdf, how= leftにすることで，左側のキーを全て残す．left_on,right_onは結合の基準になる列．\n",
        "total_df = total_df.merge(right=holiday_df[[\"holiday_date\", \"match_date_is_holiday\"]],\n",
        "                          how=\"left\",\n",
        "                          left_on=\"match_date\",\n",
        "                          right_on=\"holiday_date\").drop(\"holiday_date\", axis=1)\n",
        "\n",
        "total_df[\"match_date_is_holiday\"].fillna(0, inplace=True)\n",
        "total_df[\"kick_off_time_hour\"] = total_df[\"kick_off_time\"].dt.hour\n",
        "total_df[\"kick_off_time_minute\"] = total_df[\"kick_off_time\"].dt.minute"
      ],
      "execution_count": null,
      "outputs": []
    },
    {
      "cell_type": "markdown",
      "metadata": {
        "ExecuteTime": {
          "end_time": "2018-09-26T08:49:47.913096Z",
          "start_time": "2018-09-26T08:49:47.902098Z"
        },
        "id": "cSUNKd_fpDGt",
        "colab_type": "text"
      },
      "source": [
        "## 表記ゆれ修正"
      ]
    },
    {
      "cell_type": "markdown",
      "metadata": {
        "id": "t9kX9WkupDGu",
        "colab_type": "text"
      },
      "source": [
        "### int型に変換"
      ]
    },
    {
      "cell_type": "code",
      "metadata": {
        "id": "6rzl5PDYpDGu",
        "colab_type": "code",
        "colab": {
          "base_uri": "https://localhost:8080/",
          "height": 202
        },
        "outputId": "6dbf5db1-4f8a-4426-bcc5-36f8700f5cf4"
      },
      "source": [
        "#CHECK:列の要素に同じ処理をしたいときにapplyとlambdaが使われる\n",
        "total_df.loc[:, \"section\"] = total_df.loc[:, \"section\"].apply(lambda x: int(x[1:-1]))\n",
        "total_df.loc[:, \"round\"] = total_df.loc[:, \"round\"].apply(lambda x: int(x[1:-1]))"
      ],
      "execution_count": 1,
      "outputs": [
        {
          "output_type": "error",
          "ename": "NameError",
          "evalue": "ignored",
          "traceback": [
            "\u001b[0;31m---------------------------------------------------------------------------\u001b[0m",
            "\u001b[0;31mNameError\u001b[0m                                 Traceback (most recent call last)",
            "\u001b[0;32m<ipython-input-1-7b6c1782d2b0>\u001b[0m in \u001b[0;36m<module>\u001b[0;34m()\u001b[0m\n\u001b[1;32m      1\u001b[0m \u001b[0;31m#CHECK:列の要素に同じ処理をしたいときにapplyとlambdaが使われる\u001b[0m\u001b[0;34m\u001b[0m\u001b[0;34m\u001b[0m\u001b[0;34m\u001b[0m\u001b[0m\n\u001b[0;32m----> 2\u001b[0;31m \u001b[0mtotal_df\u001b[0m\u001b[0;34m.\u001b[0m\u001b[0mloc\u001b[0m\u001b[0;34m[\u001b[0m\u001b[0;34m:\u001b[0m\u001b[0;34m,\u001b[0m \u001b[0;34m\"section\"\u001b[0m\u001b[0;34m]\u001b[0m \u001b[0;34m=\u001b[0m \u001b[0mtotal_df\u001b[0m\u001b[0;34m.\u001b[0m\u001b[0mloc\u001b[0m\u001b[0;34m[\u001b[0m\u001b[0;34m:\u001b[0m\u001b[0;34m,\u001b[0m \u001b[0;34m\"section\"\u001b[0m\u001b[0;34m]\u001b[0m\u001b[0;34m.\u001b[0m\u001b[0mapply\u001b[0m\u001b[0;34m(\u001b[0m\u001b[0;32mlambda\u001b[0m \u001b[0mx\u001b[0m\u001b[0;34m:\u001b[0m \u001b[0mint\u001b[0m\u001b[0;34m(\u001b[0m\u001b[0mx\u001b[0m\u001b[0;34m[\u001b[0m\u001b[0;36m1\u001b[0m\u001b[0;34m:\u001b[0m\u001b[0;34m-\u001b[0m\u001b[0;36m1\u001b[0m\u001b[0;34m]\u001b[0m\u001b[0;34m)\u001b[0m\u001b[0;34m)\u001b[0m\u001b[0;34m\u001b[0m\u001b[0;34m\u001b[0m\u001b[0m\n\u001b[0m\u001b[1;32m      3\u001b[0m \u001b[0mtotal_df\u001b[0m\u001b[0;34m.\u001b[0m\u001b[0mloc\u001b[0m\u001b[0;34m[\u001b[0m\u001b[0;34m:\u001b[0m\u001b[0;34m,\u001b[0m \u001b[0;34m\"round\"\u001b[0m\u001b[0;34m]\u001b[0m \u001b[0;34m=\u001b[0m \u001b[0mtotal_df\u001b[0m\u001b[0;34m.\u001b[0m\u001b[0mloc\u001b[0m\u001b[0;34m[\u001b[0m\u001b[0;34m:\u001b[0m\u001b[0;34m,\u001b[0m \u001b[0;34m\"round\"\u001b[0m\u001b[0;34m]\u001b[0m\u001b[0;34m.\u001b[0m\u001b[0mapply\u001b[0m\u001b[0;34m(\u001b[0m\u001b[0;32mlambda\u001b[0m \u001b[0mx\u001b[0m\u001b[0;34m:\u001b[0m \u001b[0mint\u001b[0m\u001b[0;34m(\u001b[0m\u001b[0mx\u001b[0m\u001b[0;34m[\u001b[0m\u001b[0;36m1\u001b[0m\u001b[0;34m:\u001b[0m\u001b[0;34m-\u001b[0m\u001b[0;36m1\u001b[0m\u001b[0;34m]\u001b[0m\u001b[0;34m)\u001b[0m\u001b[0;34m)\u001b[0m\u001b[0;34m\u001b[0m\u001b[0;34m\u001b[0m\u001b[0m\n",
            "\u001b[0;31mNameError\u001b[0m: name 'total_df' is not defined"
          ]
        }
      ]
    },
    {
      "cell_type": "markdown",
      "metadata": {
        "id": "dsdJ9MBTpDGw",
        "colab_type": "text"
      },
      "source": [
        "### team_nameの表記ゆれ修正"
      ]
    },
    {
      "cell_type": "code",
      "metadata": {
        "ExecuteTime": {
          "end_time": "2018-09-27T08:54:27.879619Z",
          "start_time": "2018-09-27T08:54:27.874634Z"
        },
        "id": "B3Bv_VNRpDGx",
        "colab_type": "code",
        "colab": {
          "base_uri": "https://localhost:8080/",
          "height": 219
        },
        "outputId": "a0900853-63e6-4ed6-cb57-dbfeea88bddf"
      },
      "source": [
        "# 半角と全角が混じっている\n",
        "#CHECK:列のユニーク値を取り出す\n",
        "teams = set(total_df[\"home_team\"].unique().tolist() + total_df[\"away_team\"].unique().tolist())\n",
        "print(teams)"
      ],
      "execution_count": 2,
      "outputs": [
        {
          "output_type": "error",
          "ename": "NameError",
          "evalue": "ignored",
          "traceback": [
            "\u001b[0;31m---------------------------------------------------------------------------\u001b[0m",
            "\u001b[0;31mNameError\u001b[0m                                 Traceback (most recent call last)",
            "\u001b[0;32m<ipython-input-2-b7fdb2dfcf30>\u001b[0m in \u001b[0;36m<module>\u001b[0;34m()\u001b[0m\n\u001b[1;32m      1\u001b[0m \u001b[0;31m# 半角と全角が混じっている\u001b[0m\u001b[0;34m\u001b[0m\u001b[0;34m\u001b[0m\u001b[0;34m\u001b[0m\u001b[0m\n\u001b[1;32m      2\u001b[0m \u001b[0;31m#CHECK:列のユニーク値を取り出す\u001b[0m\u001b[0;34m\u001b[0m\u001b[0;34m\u001b[0m\u001b[0;34m\u001b[0m\u001b[0m\n\u001b[0;32m----> 3\u001b[0;31m \u001b[0mteams\u001b[0m \u001b[0;34m=\u001b[0m \u001b[0mset\u001b[0m\u001b[0;34m(\u001b[0m\u001b[0mtotal_df\u001b[0m\u001b[0;34m[\u001b[0m\u001b[0;34m\"home_team\"\u001b[0m\u001b[0;34m]\u001b[0m\u001b[0;34m.\u001b[0m\u001b[0munique\u001b[0m\u001b[0;34m(\u001b[0m\u001b[0;34m)\u001b[0m\u001b[0;34m.\u001b[0m\u001b[0mtolist\u001b[0m\u001b[0;34m(\u001b[0m\u001b[0;34m)\u001b[0m \u001b[0;34m+\u001b[0m \u001b[0mtotal_df\u001b[0m\u001b[0;34m[\u001b[0m\u001b[0;34m\"away_team\"\u001b[0m\u001b[0;34m]\u001b[0m\u001b[0;34m.\u001b[0m\u001b[0munique\u001b[0m\u001b[0;34m(\u001b[0m\u001b[0;34m)\u001b[0m\u001b[0;34m.\u001b[0m\u001b[0mtolist\u001b[0m\u001b[0;34m(\u001b[0m\u001b[0;34m)\u001b[0m\u001b[0;34m)\u001b[0m\u001b[0;34m\u001b[0m\u001b[0;34m\u001b[0m\u001b[0m\n\u001b[0m\u001b[1;32m      4\u001b[0m \u001b[0mprint\u001b[0m\u001b[0;34m(\u001b[0m\u001b[0mteams\u001b[0m\u001b[0;34m)\u001b[0m\u001b[0;34m\u001b[0m\u001b[0;34m\u001b[0m\u001b[0m\n",
            "\u001b[0;31mNameError\u001b[0m: name 'total_df' is not defined"
          ]
        }
      ]
    },
    {
      "cell_type": "code",
      "metadata": {
        "ExecuteTime": {
          "end_time": "2018-09-27T08:54:27.897570Z",
          "start_time": "2018-09-27T08:54:27.880616Z"
        },
        "id": "o9M426d_pDGz",
        "colab_type": "code",
        "colab": {}
      },
      "source": [
        "# まとめて置き換える\n",
        "#CHECK:関数名がわかりにくい\n",
        "def make_zen2han_dic(iterable):\n",
        "    zen = list(\"ＡＢＣＤＥＦＧＨＩＪＫＬＭＮＯＰＱＲＳＴＵＶＷＸＹＺ\" +\n",
        "               \"ａｂｃｄｅｆｇｈｉｊｋｌｍｎｏｐｑｒｓｔｕｖｗｘｙｚ\" +\n",
        "               \"０１２３４５６７８９，、．。（）＿−　\")\n",
        "    han = list(\"ABCDEFGHIJKLMNOPQRSTUVWXYZabcdefghijklmnopqrstuvwxyz0123456789,,..()_- \")\n",
        "    z2h = {}\n",
        "    pattern = \"|\".join(zen)\n",
        "    for it in iterable:\n",
        "        if re.search(pattern, it) is None:\n",
        "            continue\n",
        "        target = it*1\n",
        "        for z, h in zip(zen, han):\n",
        "            target = target.replace(z, h)\n",
        "        z2h[it] = target\n",
        "    return z2h\n",
        "\n",
        "z2h = make_zen2han_dic(teams)\n",
        "total_df[\"home_team\"].replace(z2h, inplace=True)\n",
        "total_df[\"away_team\"].replace(z2h, inplace=True)\n",
        "teams = set(total_df[\"home_team\"].unique().tolist() + total_df[\"away_team\"].unique().tolist())\n",
        "print(teams)"
      ],
      "execution_count": null,
      "outputs": []
    },
    {
      "cell_type": "code",
      "metadata": {
        "ExecuteTime": {
          "end_time": "2018-09-27T08:54:27.945442Z",
          "start_time": "2018-09-27T08:54:27.903556Z"
        },
        "id": "kZXOvRSApDG1",
        "colab_type": "code",
        "colab": {}
      },
      "source": [
        "for team in teams:\n",
        "    total_df[\"team_\" + team] = (total_df[\"home_team\"] == team) | (total_df[\"away_team\"] == team)"
      ],
      "execution_count": null,
      "outputs": []
    },
    {
      "cell_type": "markdown",
      "metadata": {
        "id": "nsjcqusopDG3",
        "colab_type": "text"
      },
      "source": [
        "### broadcastersの表記ゆれ修正"
      ]
    },
    {
      "cell_type": "code",
      "metadata": {
        "ExecuteTime": {
          "end_time": "2018-09-27T08:54:28.019258Z",
          "start_time": "2018-09-27T08:54:28.011278Z"
        },
        "id": "iXd-wtZupDG3",
        "colab_type": "code",
        "colab": {}
      },
      "source": [
        "dirty_casters = set()\n",
        "for casters in total_df[\"broadcasters\"].str.split(\"/\"):\n",
        "    dirty_casters.update(casters)"
      ],
      "execution_count": null,
      "outputs": []
    },
    {
      "cell_type": "code",
      "metadata": {
        "ExecuteTime": {
          "end_time": "2018-09-27T08:54:28.027224Z",
          "start_time": "2018-09-27T08:54:28.020243Z"
        },
        "id": "FnFbGogKpDG5",
        "colab_type": "code",
        "colab": {}
      },
      "source": [
        "# ※以降はチャンネルと関係ない\n",
        "# スカパー!関連が!がなかったりSportsのスペルや大文字小文字がぐちゃぐちゃになっていて酷い\n",
        "dirty_casters"
      ],
      "execution_count": null,
      "outputs": []
    },
    {
      "cell_type": "code",
      "metadata": {
        "ExecuteTime": {
          "end_time": "2018-09-27T08:54:28.038194Z",
          "start_time": "2018-09-27T08:54:28.028221Z"
        },
        "id": "Bqehs_Y5pDG7",
        "colab_type": "code",
        "colab": {}
      },
      "source": [
        "clean_casters = set()\n",
        "\n",
        "# ()と※より後ろを消す\n",
        "# 小文字を大文字に統一\n",
        "# ーを-に変換する\n",
        "# スカパー派生は全てスカパーに統一\n",
        "\n",
        "def cleanify(caster):\n",
        "    caster = caster.upper()\n",
        "    caster = re.sub(\"\\(.+\\)|\\*\", \"\", caster)\n",
        "    caster = caster.split(\"※\")[0]\\\n",
        "               .rstrip(\" \")\\\n",
        "               .replace(\"ー\", \"-\")\\\n",
        "               .replace(\" \", \"_\")\n",
        "    if caster[:4] == \"スカパ-\":\n",
        "        caster = \"スカパー\"\n",
        "    return caster\n",
        "\n",
        "for caster in dirty_casters:\n",
        "    clean_casters.add(cleanify(caster))"
      ],
      "execution_count": null,
      "outputs": []
    },
    {
      "cell_type": "code",
      "metadata": {
        "ExecuteTime": {
          "end_time": "2018-09-27T08:54:28.043197Z",
          "start_time": "2018-09-27T08:54:28.039192Z"
        },
        "scrolled": true,
        "id": "F9F3LpzDpDG9",
        "colab_type": "code",
        "colab": {}
      },
      "source": [
        "clean_casters"
      ],
      "execution_count": null,
      "outputs": []
    },
    {
      "cell_type": "code",
      "metadata": {
        "ExecuteTime": {
          "end_time": "2018-09-27T08:54:28.069112Z",
          "start_time": "2018-09-27T08:54:28.044179Z"
        },
        "id": "HCgQR4ropDG_",
        "colab_type": "code",
        "colab": {}
      },
      "source": [
        "tmp = total_df[\"broadcasters\"].str.split(\"/\")\\\n",
        "                              .apply(lambda casters: [cleanify(caster) for caster in casters])\n",
        "total_df[\"broadcasters\"] = tmp"
      ],
      "execution_count": null,
      "outputs": []
    },
    {
      "cell_type": "markdown",
      "metadata": {
        "id": "YJ5mHXynpDHB",
        "colab_type": "text"
      },
      "source": [
        "## venueの表記ゆれ確認"
      ]
    },
    {
      "cell_type": "code",
      "metadata": {
        "ExecuteTime": {
          "end_time": "2018-09-27T08:54:27.954419Z",
          "start_time": "2018-09-27T08:54:27.946440Z"
        },
        "id": "1oDSpQrEpDHB",
        "colab_type": "code",
        "colab": {}
      },
      "source": [
        "# value_countsを使うとおかしな値を見つけやすい\n",
        "# 数回しか出てきていないものには要注意\n",
        "#CHECK:宮城スタジアムなど，表記揺れの可能性\n",
        "total_df[\"venue\"].value_counts().sort_values().head(10)"
      ],
      "execution_count": null,
      "outputs": []
    },
    {
      "cell_type": "code",
      "metadata": {
        "ExecuteTime": {
          "end_time": "2018-09-27T08:54:27.902558Z",
          "start_time": "2018-09-27T08:54:27.898568Z"
        },
        "id": "towoTgZypDHD",
        "colab_type": "code",
        "colab": {}
      },
      "source": [
        "teams = set(total_df[\"home_team\"].unique().tolist() + total_df[\"away_team\"].unique().tolist())\n",
        "print(teams)"
      ],
      "execution_count": null,
      "outputs": []
    },
    {
      "cell_type": "code",
      "metadata": {
        "ExecuteTime": {
          "end_time": "2018-09-27T08:54:27.960403Z",
          "start_time": "2018-09-27T08:54:27.955420Z"
        },
        "id": "uLSQ403bpDHF",
        "colab_type": "code",
        "colab": {}
      },
      "source": [
        "# 一応どれもstadium_dfに入っている正式名称らしい\n",
        "#CHECK:ここで，スタジアムリストとデータに入ってるスタジアムの比較をしている\n",
        "#CHECK:df[\"column\"].tolist()でdfのcolumn列をリスト型に変換してる．set()で重複無しの集合にしている\n",
        "stadium_df_stadium = set(stadium_df[\"stadium\"].tolist())\n",
        "venue_stadium = set(total_df[\"venue\"].unique().tolist())\n",
        "print(venue_stadium - stadium_df_stadium)"
      ],
      "execution_count": null,
      "outputs": []
    },
    {
      "cell_type": "code",
      "metadata": {
        "ExecuteTime": {
          "end_time": "2018-09-27T08:54:27.975362Z",
          "start_time": "2018-09-27T08:54:27.961413Z"
        },
        "id": "EREsEnBIpDHH",
        "colab_type": "code",
        "colab": {}
      },
      "source": [
        "total_df = total_df.merge(right=stadium_df,\n",
        "                          how=\"left\",\n",
        "                          left_on=\"venue\",\n",
        "                          right_on=\"stadium\").drop(\"stadium\", axis=1)"
      ],
      "execution_count": null,
      "outputs": []
    },
    {
      "cell_type": "code",
      "metadata": {
        "id": "5_RRa1FKpDHJ",
        "colab_type": "code",
        "colab": {}
      },
      "source": [
        "total_df.columns"
      ],
      "execution_count": null,
      "outputs": []
    },
    {
      "cell_type": "markdown",
      "metadata": {
        "ExecuteTime": {
          "end_time": "2018-09-26T09:54:44.949959Z",
          "start_time": "2018-09-26T09:54:44.935023Z"
        },
        "id": "TVnhsqQppDHM",
        "colab_type": "text"
      },
      "source": [
        "### weatherを確認天気が良い順にラベリング付けしたい"
      ]
    },
    {
      "cell_type": "code",
      "metadata": {
        "ExecuteTime": {
          "end_time": "2018-09-27T08:54:27.982344Z",
          "start_time": "2018-09-27T08:54:27.976361Z"
        },
        "id": "FXDFuYkQpDHM",
        "colab_type": "code",
        "colab": {}
      },
      "source": [
        "# 気象庁の用語集(http://www.jma.go.jp/jma/kishou/know/yougo_hp/toki.html)によると\n",
        "# のち: 予報期間内の前と後で現象が異なるとき、その変化を示すときに用いる。\n",
        "# 時々: 現象が断続的に起こり、その現象の発現期間の合計時間が予報期間の1/2未満のとき。\n",
        "# 一時: 現象が連続的に起こり、その現象の発現期間が予報期間の1/4未満のとき\n",
        "#列の要素をフィルタをかけ，上位20個の要素を出力\n",
        "total_df[\"weather\"].value_counts().head(20)"
      ],
      "execution_count": null,
      "outputs": []
    },
    {
      "cell_type": "code",
      "metadata": {
        "id": "OunSltjBpDHO",
        "colab_type": "code",
        "colab": {}
      },
      "source": [
        "#シンプルに単語を含んでいるか否かで判定(BoWみたい)\n",
        "for condition in [\"晴\", \"曇\", \"雨\", \"屋内\", \"雷\", \"雪\", \"霧\"]:\n",
        "    total_df[\"weather_{}\".format(condition)] = total_df[\"weather\"].str.contains(condition)"
      ],
      "execution_count": null,
      "outputs": []
    },
    {
      "cell_type": "markdown",
      "metadata": {
        "id": "mUGuQKnRpDHQ",
        "colab_type": "text"
      },
      "source": [
        "## match_dfと結合"
      ]
    },
    {
      "cell_type": "code",
      "metadata": {
        "ExecuteTime": {
          "end_time": "2018-09-27T08:54:28.199764Z",
          "start_time": "2018-09-27T08:54:28.184803Z"
        },
        "id": "jeyuYZOUpDHQ",
        "colab_type": "code",
        "colab": {}
      },
      "source": [
        "# 選手名とかポジションとかよくわからないので\n",
        "# 点数と勝敗だけいれる\n",
        "\n",
        "match_df[\"home_team_win\"] = match_df[\"home_team_score\"] > match_df[\"away_team_score\"]\n",
        "total_df = total_df.merge(match_df[[\"id\", \"home_team_win\", \"home_team_score\", \"away_team_score\"]],\n",
        "                          how=\"left\",\n",
        "                          on=\"id\")"
      ],
      "execution_count": null,
      "outputs": []
    },
    {
      "cell_type": "code",
      "metadata": {
        "id": "Ri1aoUfLpDHS",
        "colab_type": "code",
        "colab": {}
      },
      "source": [
        "#西暦+チーム名のカラム作成\n",
        "total_df[\"home_team_year\"] = total_df[\"match_date_year\"].astype(str)+total_df[\"home_team\"]\n",
        "total_df[\"away_team_year\"] = total_df[\"match_date_year\"].astype(str)+total_df[\"away_team\"]"
      ],
      "execution_count": null,
      "outputs": []
    },
    {
      "cell_type": "code",
      "metadata": {
        "id": "RxnbFALWpDHT",
        "colab_type": "code",
        "colab": {}
      },
      "source": [
        "#昨年の順位にフラグを付ける\n",
        "total_df = total_df.merge(money_rank_df[[\"label\", \"last_rank\"]],\n",
        "                          how=\"left\",\n",
        "                          left_on=\"home_team_year\",\n",
        "                         right_on = \"label\").drop(columns =\"label\").fillna(0)\n",
        "total_df = total_df.rename(columns={'last_rank':'home_team_last_rank'})\n",
        "total_df = total_df.merge(money_rank_df[[\"label\", \"last_rank\"]],\n",
        "                          how=\"left\",\n",
        "                          left_on=\"away_team_year\",\n",
        "                         right_on = \"label\").drop(columns =\"label\").fillna(0)\n",
        "total_df = total_df.rename(columns={'last_rank':'away_team_last_rank'})"
      ],
      "execution_count": null,
      "outputs": []
    },
    {
      "cell_type": "code",
      "metadata": {
        "id": "4EO1iQeWpDHW",
        "colab_type": "code",
        "colab": {}
      },
      "source": [
        "twitter_df.head(3)"
      ],
      "execution_count": null,
      "outputs": []
    },
    {
      "cell_type": "code",
      "metadata": {
        "id": "0D4GWe4zpDHY",
        "colab_type": "code",
        "colab": {}
      },
      "source": [
        "total_df.head(3)"
      ],
      "execution_count": null,
      "outputs": []
    },
    {
      "cell_type": "code",
      "metadata": {
        "id": "L9jWOl1LpDHZ",
        "colab_type": "code",
        "colab": {}
      },
      "source": [
        "# チーム毎の資金力を加える\n",
        "total_df = total_df.merge(money_rank_df[[\"label\", \"money\",\"last_year_access_time\",\"last_year_operating_revenue\",\"last_year_net_income\"]],\n",
        "                          how=\"left\",\n",
        "                          left_on=\"home_team_year\",\n",
        "                         right_on = \"label\").drop(columns=\"label\")\n",
        "total_df = total_df.rename(columns={'money':'home_team_money','last_year_access_time':'home_access_time',\n",
        "                                   'last_year_operating_revenue':'home_operating_revenue','last_year_net_income':'home_net_income'})\n",
        "total_df = total_df.merge(money_rank_df[[\"label\", \"money\",\"last_year_operating_revenue\",\"last_year_net_income\"]],\n",
        "                          how=\"left\",\n",
        "                          left_on=\"away_team_year\",\n",
        "                         right_on = \"label\").drop(columns=\"label\")\n",
        "total_df = total_df.rename(columns={'money':'away_team_money','last_year_operating_revenue':'away_operating_revenue','last_year_net_income':'away_net_income'})"
      ],
      "execution_count": null,
      "outputs": []
    },
    {
      "cell_type": "code",
      "metadata": {
        "id": "tCwhxeoGpDHb",
        "colab_type": "code",
        "colab": {}
      },
      "source": [
        "total_df.info()"
      ],
      "execution_count": null,
      "outputs": []
    },
    {
      "cell_type": "markdown",
      "metadata": {
        "id": "QOhOZZQUpDHd",
        "colab_type": "text"
      },
      "source": [
        "# EDA"
      ]
    },
    {
      "cell_type": "markdown",
      "metadata": {
        "id": "V1duMab7pDHd",
        "colab_type": "text"
      },
      "source": [
        "## match_date/kick_off_time"
      ]
    },
    {
      "cell_type": "code",
      "metadata": {
        "id": "KJENZC4ipDHd",
        "colab_type": "code",
        "colab": {}
      },
      "source": [
        "%matplotlib inline"
      ],
      "execution_count": null,
      "outputs": []
    },
    {
      "cell_type": "code",
      "metadata": {
        "ExecuteTime": {
          "end_time": "2018-09-27T08:54:28.535869Z",
          "start_time": "2018-09-27T08:54:28.230681Z"
        },
        "id": "I9dv3JjlpDHf",
        "colab_type": "code",
        "colab": {},
        "outputId": "f7d3ce7e-3866-4246-bca5-0eb2366b07e2"
      },
      "source": [
        "fig, axs = plt.subplots(1, 3, figsize=(12, 9))\n",
        "axs = axs.flatten()\n",
        "total_df[\"match_date_month\"].value_counts()\\\n",
        "                            .sort_index(ascending=False)\\\n",
        "                            .plot(kind=\"barh\", ax=axs[0], color=\"deepskyblue\")\n",
        "axs[0].set_title(\"month\")\n",
        "\n",
        "total_df[\"match_date_dayofweek\"].value_counts()\\\n",
        "                                .sort_index(ascending=False)\\\n",
        "                                .plot(kind=\"barh\", ax=axs[1], color=\"limegreen\")\n",
        "axs[1].set_title(\"day of week (0=monday)\")\n",
        "\n",
        "total_df[\"kick_off_time_hour\"].value_counts()\\\n",
        "                                .sort_index(ascending=False)\\\n",
        "                                .plot(kind=\"barh\", ax=axs[2], color=\"gold\")\n",
        "axs[2].set_title(\"kick_off_time hour\")"
      ],
      "execution_count": null,
      "outputs": [
        {
          "output_type": "execute_result",
          "data": {
            "text/plain": [
              "Text(0.5, 1.0, 'kick_off_time hour')"
            ]
          },
          "metadata": {
            "tags": []
          },
          "execution_count": 35
        },
        {
          "output_type": "display_data",
          "data": {
            "image/png": "[encoded data removed]",
            "text/plain": [
              "<Figure size 864x648 with 3 Axes>"
            ]
          },
          "metadata": {
            "tags": []
          }
        }
      ]
    },
    {
      "cell_type": "code",
      "metadata": {
        "ExecuteTime": {
          "end_time": "2018-09-27T08:54:28.698456Z",
          "start_time": "2018-09-27T08:54:28.536862Z"
        },
        "id": "XbjKzApdpDHi",
        "colab_type": "code",
        "colab": {},
        "outputId": "76ddabcc-e18e-4623-dd26-3fef2eed1f2b"
      },
      "source": [
        "# 曜日ごとにどの時間に始まりやすいかを集計\n",
        "# 平日はナイターが多く、土日は分散している？\n",
        "pivot = total_df.pivot_table(index=\"match_date_dayofweek\",\n",
        "                             columns=\"kick_off_time_hour\",\n",
        "                             values=\"id\",\n",
        "                             aggfunc=\"count\").fillna(0)\n",
        "pivot =  pivot / (pivot.sum(axis=1).values.reshape(-1, 1) * np.ones((1, 9)))\n",
        "sns.heatmap(pivot, cmap=\"BuGn\")"
      ],
      "execution_count": null,
      "outputs": [
        {
          "output_type": "execute_result",
          "data": {
            "text/plain": [
              "<matplotlib.axes._subplots.AxesSubplot at 0x1d268376898>"
            ]
          },
          "metadata": {
            "tags": []
          },
          "execution_count": 36
        },
        {
          "output_type": "display_data",
          "data": {
            "image/png": "[encoded data removed]",
            "text/plain": [
              "<Figure size 432x288 with 2 Axes>"
            ]
          },
          "metadata": {
            "tags": []
          }
        }
      ]
    },
    {
      "cell_type": "code",
      "metadata": {
        "ExecuteTime": {
          "end_time": "2018-09-27T08:54:28.824120Z",
          "start_time": "2018-09-27T08:54:28.699426Z"
        },
        "id": "dB6VbvIBpDHj",
        "colab_type": "code",
        "colab": {},
        "outputId": "7ae192a5-1fe2-470d-9597-654f5ee5eb3e"
      },
      "source": [
        "# 曜日のうち休日の割合\n",
        "# 水曜日は休日が少なく、ナイターの割合が多い\n",
        "total_df.groupby(\"match_date_dayofweek\")[\"match_date_is_holiday\"]\\\n",
        "        .mean()\\\n",
        "        .sort_index(ascending=False)\\\n",
        "        .plot(kind=\"barh\")\n",
        "\n",
        "plt.xlim(0, 1)"
      ],
      "execution_count": null,
      "outputs": [
        {
          "output_type": "execute_result",
          "data": {
            "text/plain": [
              "(0, 1)"
            ]
          },
          "metadata": {
            "tags": []
          },
          "execution_count": 37
        },
        {
          "output_type": "display_data",
          "data": {
            "image/png": "[encoded data removed]",
            "text/plain": [
              "<Figure size 432x288 with 1 Axes>"
            ]
          },
          "metadata": {
            "tags": []
          }
        }
      ]
    },
    {
      "cell_type": "markdown",
      "metadata": {
        "ExecuteTime": {
          "end_time": "2018-09-26T15:44:20.908626Z",
          "start_time": "2018-09-26T15:44:20.892641Z"
        },
        "id": "B2v-pcn-pDHl",
        "colab_type": "text"
      },
      "source": [
        "## team/stadium"
      ]
    },
    {
      "cell_type": "code",
      "metadata": {
        "ExecuteTime": {
          "end_time": "2018-09-27T08:54:28.832071Z",
          "start_time": "2018-09-27T08:54:28.825090Z"
        },
        "id": "g9Pq0LNUpDHl",
        "colab_type": "code",
        "colab": {},
        "outputId": "3826908c-2cbb-4917-9e9d-a80adb1b08d8"
      },
      "source": [
        "# 試合数の合計\n",
        "# 浦和や鹿島は長年Jリーグにいるようで僕でも聞いたことがある\n",
        "total_df.filter(regex=\"^team\").sum(axis=0).sort_values(ascending=False)"
      ],
      "execution_count": null,
      "outputs": [
        {
          "output_type": "execute_result",
          "data": {
            "text/plain": [
              "team_川崎F     427\n",
              "team_鹿島      427\n",
              "team_浦和      427\n",
              "team_横浜FM    427\n",
              "team_新潟      408\n",
              "team_G大阪     393\n",
              "team_FC東京    393\n",
              "team_広島      393\n",
              "team_清水      393\n",
              "team_名古屋     393\n",
              "team_大宮      374\n",
              "team_柏       359\n",
              "team_神戸      359\n",
              "team_磐田      359\n",
              "team_仙台      291\n",
              "team_甲府      272\n",
              "team_C大阪     257\n",
              "team_鳥栖      223\n",
              "team_大分      170\n",
              "team_湘南      155\n",
              "team_千葉      136\n",
              "team_京都      136\n",
              "team_山形      136\n",
              "team_札幌      121\n",
              "team_福岡      102\n",
              "team_横浜FC     34\n",
              "team_松本       34\n",
              "team_徳島       34\n",
              "team_東京V      34\n",
              "team_長崎       19\n",
              "dtype: int64"
            ]
          },
          "metadata": {
            "tags": []
          },
          "execution_count": 38
        }
      ]
    },
    {
      "cell_type": "code",
      "metadata": {
        "ExecuteTime": {
          "end_time": "2018-09-27T08:54:29.072429Z",
          "start_time": "2018-09-27T08:54:29.059463Z"
        },
        "id": "KBkmImt8pDHn",
        "colab_type": "code",
        "colab": {},
        "outputId": "a5e9ddb8-8250-4a36-c874-470b9369593b"
      },
      "source": [
        "# チームごとのホームスタジアム\n",
        "home_stadium_df = total_df.groupby([\"home_team\", \"venue\"])[\"id\"].any().reset_index().drop(\"id\", axis=1)\n",
        "home_stadium_df.head(15)"
      ],
      "execution_count": null,
      "outputs": [
        {
          "output_type": "execute_result",
          "data": {
            "text/html": [
              "<div>\n",
              "<style scoped>\n",
              "    .dataframe tbody tr th:only-of-type {\n",
              "        vertical-align: middle;\n",
              "    }\n",
              "\n",
              "    .dataframe tbody tr th {\n",
              "        vertical-align: top;\n",
              "    }\n",
              "\n",
              "    .dataframe thead th {\n",
              "        text-align: right;\n",
              "    }\n",
              "</style>\n",
              "<table border=\"1\" class=\"dataframe\">\n",
              "  <thead>\n",
              "    <tr style=\"text-align: right;\">\n",
              "      <th></th>\n",
              "      <th>home_team</th>\n",
              "      <th>venue</th>\n",
              "    </tr>\n",
              "  </thead>\n",
              "  <tbody>\n",
              "    <tr>\n",
              "      <th>0</th>\n",
              "      <td>C大阪</td>\n",
              "      <td>キンチョウスタジアム</td>\n",
              "    </tr>\n",
              "    <tr>\n",
              "      <th>1</th>\n",
              "      <td>C大阪</td>\n",
              "      <td>ヤンマースタジアム長居</td>\n",
              "    </tr>\n",
              "    <tr>\n",
              "      <th>2</th>\n",
              "      <td>C大阪</td>\n",
              "      <td>大阪長居スタジアム</td>\n",
              "    </tr>\n",
              "    <tr>\n",
              "      <th>3</th>\n",
              "      <td>C大阪</td>\n",
              "      <td>大阪長居第2陸上競技場</td>\n",
              "    </tr>\n",
              "    <tr>\n",
              "      <th>4</th>\n",
              "      <td>FC東京</td>\n",
              "      <td>味の素スタジアム</td>\n",
              "    </tr>\n",
              "    <tr>\n",
              "      <th>5</th>\n",
              "      <td>FC東京</td>\n",
              "      <td>国立競技場</td>\n",
              "    </tr>\n",
              "    <tr>\n",
              "      <th>6</th>\n",
              "      <td>FC東京</td>\n",
              "      <td>松本平広域公園総合球技場</td>\n",
              "    </tr>\n",
              "    <tr>\n",
              "      <th>7</th>\n",
              "      <td>G大阪</td>\n",
              "      <td>パナソニックスタジアム吹田</td>\n",
              "    </tr>\n",
              "    <tr>\n",
              "      <th>8</th>\n",
              "      <td>G大阪</td>\n",
              "      <td>万博記念競技場</td>\n",
              "    </tr>\n",
              "    <tr>\n",
              "      <th>9</th>\n",
              "      <td>G大阪</td>\n",
              "      <td>市立吹田サッカースタジアム</td>\n",
              "    </tr>\n",
              "    <tr>\n",
              "      <th>10</th>\n",
              "      <td>G大阪</td>\n",
              "      <td>石川県西部緑地公園陸上競技場</td>\n",
              "    </tr>\n",
              "    <tr>\n",
              "      <th>11</th>\n",
              "      <td>京都</td>\n",
              "      <td>京都市西京極総合運動公園陸上競技場兼球技場</td>\n",
              "    </tr>\n",
              "    <tr>\n",
              "      <th>12</th>\n",
              "      <td>京都</td>\n",
              "      <td>鹿児島県立鴨池陸上競技場</td>\n",
              "    </tr>\n",
              "    <tr>\n",
              "      <th>13</th>\n",
              "      <td>仙台</td>\n",
              "      <td>ユアテックスタジアム仙台</td>\n",
              "    </tr>\n",
              "    <tr>\n",
              "      <th>14</th>\n",
              "      <td>仙台</td>\n",
              "      <td>宮城スタジアム</td>\n",
              "    </tr>\n",
              "  </tbody>\n",
              "</table>\n",
              "</div>"
            ],
            "text/plain": [
              "   home_team                  venue\n",
              "0        C大阪             キンチョウスタジアム\n",
              "1        C大阪            ヤンマースタジアム長居\n",
              "2        C大阪              大阪長居スタジアム\n",
              "3        C大阪            大阪長居第2陸上競技場\n",
              "4       FC東京               味の素スタジアム\n",
              "5       FC東京                  国立競技場\n",
              "6       FC東京           松本平広域公園総合球技場\n",
              "7        G大阪          パナソニックスタジアム吹田\n",
              "8        G大阪                万博記念競技場\n",
              "9        G大阪          市立吹田サッカースタジアム\n",
              "10       G大阪         石川県西部緑地公園陸上競技場\n",
              "11        京都  京都市西京極総合運動公園陸上競技場兼球技場\n",
              "12        京都           鹿児島県立鴨池陸上競技場\n",
              "13        仙台           ユアテックスタジアム仙台\n",
              "14        仙台                宮城スタジアム"
            ]
          },
          "metadata": {
            "tags": []
          },
          "execution_count": 39
        }
      ]
    },
    {
      "cell_type": "code",
      "metadata": {
        "ExecuteTime": {
          "end_time": "2018-09-27T08:54:29.079439Z",
          "start_time": "2018-09-27T08:54:29.073426Z"
        },
        "id": "qUug0zNNpDHp",
        "colab_type": "code",
        "colab": {},
        "outputId": "9fcf8859-22ad-4f3f-9ba4-b2c781c4aaf2"
      },
      "source": [
        "# 12会場が複数のチームにホームグラウンドとして使われている\n",
        "home_stadium_df[\"venue\"].value_counts().sort_values(ascending=False).head(12)"
      ],
      "execution_count": null,
      "outputs": [
        {
          "output_type": "execute_result",
          "data": {
            "text/plain": [
              "国立競技場               9\n",
              "松本平広域公園総合球技場        3\n",
              "静岡スタジアムエコパ          2\n",
              "鹿児島県立鴨池陸上競技場        2\n",
              "日産スタジアム             2\n",
              "味の素スタジアム            2\n",
              "さいたま市浦和駒場スタジアム      2\n",
              "エコパスタジアム            2\n",
              "県立カシマサッカースタジアム      2\n",
              "横浜市三ツ沢公園球技場         2\n",
              "埼玉スタジアム2002         2\n",
              "ShonanBMWスタジアム平塚    1\n",
              "Name: venue, dtype: int64"
            ]
          },
          "metadata": {
            "tags": []
          },
          "execution_count": 40
        }
      ]
    },
    {
      "cell_type": "code",
      "metadata": {
        "ExecuteTime": {
          "end_time": "2018-09-27T08:54:29.087389Z",
          "start_time": "2018-09-27T08:54:29.080406Z"
        },
        "id": "fszeiot3pDHs",
        "colab_type": "code",
        "colab": {},
        "outputId": "2bb29ff5-3787-4695-ed75-8cb21c372964"
      },
      "source": [
        "# 各チームどれくらいのホームスタジアムを使っているのか\n",
        "home_stadium_df.groupby(\"home_team\")[\"venue\"].count().value_counts().sort_index()"
      ],
      "execution_count": null,
      "outputs": [
        {
          "output_type": "execute_result",
          "data": {
            "text/plain": [
              "1     5\n",
              "2    10\n",
              "3     5\n",
              "4     9\n",
              "6     1\n",
              "Name: venue, dtype: int64"
            ]
          },
          "metadata": {
            "tags": []
          },
          "execution_count": 41
        }
      ]
    },
    {
      "cell_type": "markdown",
      "metadata": {
        "id": "ayCiECVCpDHv",
        "colab_type": "text"
      },
      "source": [
        "# モデリング"
      ]
    },
    {
      "cell_type": "markdown",
      "metadata": {
        "id": "CTThYgozpDHz",
        "colab_type": "text"
      },
      "source": [
        "## 特徴量の変形"
      ]
    },
    {
      "cell_type": "markdown",
      "metadata": {
        "id": "ZbsFW0XNpDHz",
        "colab_type": "text"
      },
      "source": [
        "### 気温と湿度を層別化"
      ]
    },
    {
      "cell_type": "code",
      "metadata": {
        "id": "hBGPm5rGpDHz",
        "colab_type": "code",
        "colab": {
          "base_uri": "https://localhost:8080/",
          "height": 168
        },
        "outputId": "08a72d65-ce59-4ca6-c4c4-2a98fdc3f88b"
      },
      "source": [
        "len(total_df)"
      ],
      "execution_count": 3,
      "outputs": [
        {
          "output_type": "error",
          "ename": "NameError",
          "evalue": "ignored",
          "traceback": [
            "\u001b[0;31m---------------------------------------------------------------------------\u001b[0m",
            "\u001b[0;31mNameError\u001b[0m                                 Traceback (most recent call last)",
            "\u001b[0;32m<ipython-input-3-3e4570a9a1a7>\u001b[0m in \u001b[0;36m<module>\u001b[0;34m()\u001b[0m\n\u001b[0;32m----> 1\u001b[0;31m \u001b[0mlen\u001b[0m\u001b[0;34m(\u001b[0m\u001b[0mtotal_df\u001b[0m\u001b[0;34m)\u001b[0m\u001b[0;34m\u001b[0m\u001b[0;34m\u001b[0m\u001b[0m\n\u001b[0m",
            "\u001b[0;31mNameError\u001b[0m: name 'total_df' is not defined"
          ]
        }
      ]
    },
    {
      "cell_type": "code",
      "metadata": {
        "id": "HBqjT6QIpDH2",
        "colab_type": "code",
        "colab": {}
      },
      "source": [
        "#capacityが連続的なので、層別に分ける\n",
        "total_df.humidity.describe()"
      ],
      "execution_count": null,
      "outputs": []
    },
    {
      "cell_type": "code",
      "metadata": {
        "id": "Ah_tQj0RpDH4",
        "colab_type": "code",
        "colab": {}
      },
      "source": [
        "def simplify_humidity(df):\n",
        "    bins = (0,12, 46, 62, 76,100)\n",
        "    group_names = [\"hum_1\",\"hum_2\",\"hum_3\",\"hum_4\",\"hum_5\"]\n",
        "    categories = pd.cut(df.humidity, bins, labels=group_names)\n",
        "    df.humidity = categories\n",
        "    return df"
      ],
      "execution_count": null,
      "outputs": []
    },
    {
      "cell_type": "code",
      "metadata": {
        "id": "Y-uc43tppDH6",
        "colab_type": "code",
        "colab": {}
      },
      "source": [
        "#capacityが連続的なので、層別に分ける\n",
        "total_df.temperature.describe()"
      ],
      "execution_count": null,
      "outputs": []
    },
    {
      "cell_type": "code",
      "metadata": {
        "id": "NOJpbix8pDH8",
        "colab_type": "code",
        "colab": {}
      },
      "source": [
        "def simplify_temprature(df):\n",
        "    bins = (-5,1, 16, 21, 26,40)\n",
        "    group_names = [\"hokkaido\",\"cold\",\"good\",\"warm\",\"spring\"]\n",
        "    categories = pd.cut(df.temperature, bins, labels=group_names)\n",
        "    df.temperature = categories\n",
        "    return df"
      ],
      "execution_count": null,
      "outputs": []
    },
    {
      "cell_type": "code",
      "metadata": {
        "id": "yK0MmOKspDH9",
        "colab_type": "code",
        "colab": {}
      },
      "source": [
        "#capacityが連続的なので、層別に分ける\n",
        "total_df.capacity.describe()"
      ],
      "execution_count": null,
      "outputs": []
    },
    {
      "cell_type": "code",
      "metadata": {
        "id": "56J6SYjWpDIA",
        "colab_type": "code",
        "colab": {}
      },
      "source": [
        "def simplify_capacity(df):\n",
        "    bins = (10000,15000, 20000, 25000, 30000,35000, 40000,45000, 50000,55000,60000,65000,70000,75000)\n",
        "    group_names = [15000, 20000, 25000, 30000,35000, 40000,45000, 50000,55000,60000,65000,70000,75000]\n",
        "    categories = pd.cut(df.capacity, bins, labels=group_names)\n",
        "    df.capacity = categories\n",
        "    return df"
      ],
      "execution_count": null,
      "outputs": []
    },
    {
      "cell_type": "code",
      "metadata": {
        "id": "VcbieI1npDIB",
        "colab_type": "code",
        "colab": {}
      },
      "source": [
        "def simplify_home_last_year_rank(df):\n",
        "    bins = (-1,5, 10,14,20,30)\n",
        "    group_names = [\"top_team\",\"high_team\",\"middle_team\",\"low_team\",\"from_j2\"]\n",
        "    categories = pd.cut(df.home_team_last_rank, bins, labels=group_names)\n",
        "    df.home_team_last_rank = categories\n",
        "    return df"
      ],
      "execution_count": null,
      "outputs": []
    },
    {
      "cell_type": "code",
      "metadata": {
        "id": "uU8ya3DIpDIF",
        "colab_type": "code",
        "colab": {}
      },
      "source": [
        "def simplify_away_last_year_rank(df):\n",
        "    bins = (-1,5, 10,14,20,30)\n",
        "    group_names = [\"top_team\",\"high_team\",\"middle_team\",\"low_team\",\"from_j2\"]\n",
        "    categories = pd.cut(df.away_team_last_rank, bins, labels=group_names)\n",
        "    df.away_team_last_rank = categories\n",
        "    return df"
      ],
      "execution_count": null,
      "outputs": []
    },
    {
      "cell_type": "code",
      "metadata": {
        "id": "v7zjNX-UpDIG",
        "colab_type": "code",
        "colab": {}
      },
      "source": [
        "#followr数も層別化する\n",
        "#total_df.home_team_follower.describe()"
      ],
      "execution_count": null,
      "outputs": []
    },
    {
      "cell_type": "code",
      "metadata": {
        "id": "y29ECnSmpDII",
        "colab_type": "code",
        "colab": {}
      },
      "source": [
        "def simplify_away_team_follower(df):\n",
        "    bins = (0,68705,107336,354083,1000000)\n",
        "    group_names = [\"low_folloer\",\"middle_follower\",\"high_follower\",\"top_follower\"]\n",
        "    categories = pd.cut(df.away_team_follower, bins, labels=group_names)\n",
        "    df.away_team_follower = categories\n",
        "    return df"
      ],
      "execution_count": null,
      "outputs": []
    },
    {
      "cell_type": "code",
      "metadata": {
        "id": "MpCvoK3SpDIK",
        "colab_type": "code",
        "colab": {}
      },
      "source": [
        "def simplify_home_team_money(df):\n",
        "    bins = (0,41980,58190,76190,200000)\n",
        "    group_names = [\"low_money\",\"middle_money\",\"high_money\",\"top_money\"]\n",
        "    categories = pd.cut(df.home_team_money, bins, labels=group_names)\n",
        "    df.home_team_money = categories\n",
        "    return df"
      ],
      "execution_count": null,
      "outputs": []
    },
    {
      "cell_type": "code",
      "metadata": {
        "id": "79-x4tYCpDIL",
        "colab_type": "code",
        "colab": {}
      },
      "source": [
        "def simplify_away_team_money(df):\n",
        "    bins = (0,41980,58190,76190,200000)\n",
        "    group_names = [\"low_money\",\"middle_money\",\"high_money\",\"top_money\"]\n",
        "    categories = pd.cut(df.away_team_money, bins, labels=group_names)\n",
        "    df.away_team_money = categories\n",
        "    return df"
      ],
      "execution_count": null,
      "outputs": []
    },
    {
      "cell_type": "code",
      "metadata": {
        "id": "ouRjFrKDpDIO",
        "colab_type": "code",
        "colab": {}
      },
      "source": [
        "#sectionが1,2,33,34,35は観客が多いので明示的にする\n",
        "total_df.loc[:, \"Special_section\"] = 0\n",
        "total_df.ix[total_df[total_df['section']==1].index.tolist(), \"Special_section\"] = 1\n",
        "total_df.ix[total_df[total_df['section']==2].index.tolist(), \"Special_section\"] = 1\n",
        "total_df.ix[total_df[total_df['section']==32].index.tolist(), \"Special_section\"] = 1\n",
        "total_df.ix[total_df[total_df['section']==33].index.tolist(), \"Special_section\"] = 1\n",
        "total_df.ix[total_df[total_df['section']==34].index.tolist(), \"Special_section\"] = 1"
      ],
      "execution_count": null,
      "outputs": []
    },
    {
      "cell_type": "code",
      "metadata": {
        "id": "7cfmLEK_pDIQ",
        "colab_type": "code",
        "colab": {}
      },
      "source": [
        "#j2をとりあえず25に置き換え、カラムをint型に変更する\n",
        "total_df.home_team_last_rank = total_df.home_team_last_rank.replace(\"j2\",25)\n",
        "total_df[\"home_team_last_rank\"] = total_df[\"home_team_last_rank\"].astype(np.int64)\n",
        "total_df.away_team_last_rank = total_df.away_team_last_rank.replace(\"j2\",25)\n",
        "total_df[\"away_team_last_rank\"] = total_df[\"away_team_last_rank\"].astype(np.int64)\n",
        "#follower数もint型に変換する\n",
        "#total_df[\"home_team_follower\"] = total_df[\"home_team_follower\"].astype(np.int64)"
      ],
      "execution_count": null,
      "outputs": []
    },
    {
      "cell_type": "code",
      "metadata": {
        "id": "_mwByHEdpDIR",
        "colab_type": "code",
        "colab": {}
      },
      "source": [
        "#total_df = simplify_humidity(total_df)\n",
        "#total_df = simplify_temprature(total_df)\n",
        "#total_df = simplify_capacity(total_df)\n",
        "#total_df = simplify_home_last_year_rank(total_df)\n",
        "#total_df = simplify_away_last_year_rank(total_df)\n",
        "#total_df = simplify_home_team_money(total_df)\n",
        "#total_df = simplify_away_team_money(total_df)"
      ],
      "execution_count": null,
      "outputs": []
    },
    {
      "cell_type": "code",
      "metadata": {
        "id": "yC12SkTdpDIT",
        "colab_type": "code",
        "colab": {}
      },
      "source": [
        "total_df[\"capacity\"] = total_df[\"capacity\"].astype(np.int64)\n",
        "total_df[\"capacity\"].dtype"
      ],
      "execution_count": null,
      "outputs": []
    },
    {
      "cell_type": "markdown",
      "metadata": {
        "id": "bek9EiGEpDIV",
        "colab_type": "text"
      },
      "source": [
        "### 放送の数の特徴量付与"
      ]
    },
    {
      "cell_type": "code",
      "metadata": {
        "id": "HlG8vmsgpDIV",
        "colab_type": "code",
        "colab": {}
      },
      "source": [
        "total_df.loc[:,\"broadcasters_num\"] = total_df[\"broadcasters\"].apply(lambda broadcasters: len(broadcasters))"
      ],
      "execution_count": null,
      "outputs": []
    },
    {
      "cell_type": "code",
      "metadata": {
        "id": "oKM5TTGhpDIW",
        "colab_type": "code",
        "colab": {},
        "outputId": "222b7707-c71b-4a88-bd1e-1dd52d8d9f4e"
      },
      "source": [
        "print(len( total_df.query(\"id < 19075\")),len(target))"
      ],
      "execution_count": null,
      "outputs": [
        {
          "output_type": "stream",
          "text": [
            "3366 3366\n"
          ],
          "name": "stdout"
        }
      ]
    },
    {
      "cell_type": "code",
      "metadata": {
        "ExecuteTime": {
          "end_time": "2018-09-27T08:54:50.410376Z",
          "start_time": "2018-09-27T08:54:50.382449Z"
        },
        "id": "3AQogMvZpDIY",
        "colab_type": "code",
        "colab": {}
      },
      "source": [
        "# 今回は欠損値に関して考えないものとする\n",
        "total_df = total_df.dropna()\n",
        "bool_col = total_df.filter(regex=\"^weather_\").columns.tolist() + [\"home_team_win\"]\n",
        "total_df.loc[:, bool_col] = total_df.loc[:, bool_col].astype(np.bool8)"
      ],
      "execution_count": null,
      "outputs": []
    },
    {
      "cell_type": "code",
      "metadata": {
        "id": "nyMXd1fUpDIZ",
        "colab_type": "code",
        "colab": {},
        "outputId": "f4fd65d2-9818-49e9-910a-3953632ef0a5"
      },
      "source": [
        "print(len( total_df.query(\"id < 19075\")),len(target))"
      ],
      "execution_count": null,
      "outputs": [
        {
          "output_type": "stream",
          "text": [
            "3366 3366\n"
          ],
          "name": "stdout"
        }
      ]
    },
    {
      "cell_type": "code",
      "metadata": {
        "id": "AePphiOEpDIb",
        "colab_type": "code",
        "colab": {}
      },
      "source": [
        "#対象の行よりも過去で会場、ホームチームが同じデータフレームを返す\n",
        "def get_df_past_attendance(row,train_df):\n",
        "    past_df = train_df[(train_df[\"id\"]<row[\"id\"]) & (train_df[\"match_date\"]<str(row[\"match_date\"]))\n",
        "    & (train_df[\"venue\"]==row[\"venue\"])& (train_df[\"home_team\"]==row[\"home_team\"])]\n",
        "    return past_df"
      ],
      "execution_count": null,
      "outputs": []
    },
    {
      "cell_type": "code",
      "metadata": {
        "id": "eQdInU3cpDIc",
        "colab_type": "code",
        "colab": {}
      },
      "source": [
        "#対象のデータフレームに対して、追加カラムが一致するものを返す\n",
        "def get_df_past_attendance_ad_column(row,train_df,tg_column):\n",
        "    past_df = train_df[(train_df[\"id\"]<row[\"id\"]) & (train_df[\"match_date\"]<str(row[\"match_date\"]))\n",
        "    & (train_df[\"venue\"]==row[\"venue\"])& (train_df[\"home_team\"]==row[\"home_team\"])]\n",
        "    past_df = past_df[past_df[tg_column] == row[tg_column]]\n",
        "    return past_df"
      ],
      "execution_count": null,
      "outputs": []
    },
    {
      "cell_type": "code",
      "metadata": {
        "id": "q1zPJMyVpDId",
        "colab_type": "code",
        "colab": {}
      },
      "source": [
        "#過去の試合の入場者の平均値を取る\n",
        "past_attendance_mean = []\n",
        "new_match_param = 0.55#その会場で初めて試合する時の予測人数\n",
        "for index, row in total_df.iterrows():\n",
        "    past_df = get_df_past_attendance(row,train_df)\n",
        "    if len(past_df) == 0:\n",
        "        past_attendance_mean.append(row[\"capacity\"]*0.5)\n",
        "    else:\n",
        "        past_attendance_mean.append(past_df[\"attendance\"].mean())\n",
        "total_df[\"past_attendance_mean\"]=past_attendance_mean"
      ],
      "execution_count": null,
      "outputs": []
    },
    {
      "cell_type": "code",
      "metadata": {
        "id": "9t63jwanpDIf",
        "colab_type": "code",
        "colab": {}
      },
      "source": [
        "#過去の試合の入場者の平均値を取る＋アウェイチーム一致\n",
        "past_attendance_away_team_mean = []\n",
        "new_match_param = 0.55#その会場で初めて試合する時の予測人数\n",
        "for index, row in total_df.iterrows():\n",
        "    past_df = get_df_past_attendance_ad_column(row,train_df,\"away_team\")\n",
        "    if len(past_df) == 0:\n",
        "        past_attendance_away_team_mean.append(row[\"capacity\"]*0.5)\n",
        "    else:\n",
        "        past_attendance_away_team_mean.append(past_df[\"attendance\"].mean())\n",
        "total_df[\"past_attendance_away_team_mean\"]=past_attendance_away_team_mean"
      ],
      "execution_count": null,
      "outputs": []
    },
    {
      "cell_type": "code",
      "metadata": {
        "id": "vWkqcdOMpDIg",
        "colab_type": "code",
        "colab": {}
      },
      "source": [
        "#過去の試合の入場者で最も最近ものを取る＋アウェイチーム一致\n",
        "past_attendance_away_team_recent = []\n",
        "new_match_param = 0.55\n",
        "#その会場で初めて試合する時の予測人数\n",
        "for index, row in total_df.iterrows():\n",
        "    past_df = get_df_past_attendance_ad_column(row,train_df,\"away_team\")\n",
        "    if len(past_df) == 0:\n",
        "        past_attendance_away_team_recent.append(row[\"capacity\"]*0.5)\n",
        "    else:\n",
        "        past_attendance_away_team_recent.append(past_df.sort_values(by=\"match_date\", ascending=False)[\"attendance\"].tolist()[0])\n",
        "total_df[\"past_attendance_away_team_recent\"]=past_attendance_away_team_recent"
      ],
      "execution_count": null,
      "outputs": []
    },
    {
      "cell_type": "code",
      "metadata": {
        "id": "BJhwATnvpDIj",
        "colab_type": "code",
        "colab": {}
      },
      "source": [
        "# objectとdatetimeは直接扱えないので取り除く(match_day,capacity,venue,idに関しては必要な情報のため残す)\n",
        "# match_dataで、未来のデータの使用が無いようにする\n",
        "match_date = total_df[\"match_date\"]\n",
        "capacity = total_df[\"capacity\"]\n",
        "venue = total_df[\"venue\"]\n",
        "id_list = total_df[\"id\"]\n",
        "normality_df =total_df.copy()\n",
        "del_col = normality_df.select_dtypes([\"object\", np.datetime64]).columns.tolist()\n",
        "del_col.append(\"capacity\")\n",
        "del_col.append(\"id\")\n",
        "normality_df.drop(del_col, axis=1, inplace=True)"
      ],
      "execution_count": null,
      "outputs": []
    },
    {
      "cell_type": "code",
      "metadata": {
        "id": "ZgoFRrmtpDIk",
        "colab_type": "code",
        "colab": {},
        "outputId": "fe8ca4cb-6671-4b81-e010-aa5928675346"
      },
      "source": [
        "from scipy.stats import norm, skew\n",
        "numeric_feats = normality_df.dtypes[normality_df.dtypes != \"object\"].index\n",
        "# 説明変数を正規分布に近づける\n",
        "skewed_feats = normality_df[numeric_feats].apply(lambda x: skew(x.dropna())).sort_values(ascending=False)\n",
        "print(\"\\nSkew in numerical features: \\n\")\n",
        "skewness = pd.DataFrame({'Skew' :skewed_feats})\n",
        "skewness = skewness[abs(skewness) > 0.75]\n",
        "print(\"There are {} skewed numerical features to Box Cox transform\".format(skewness.shape[0]))\n",
        "from scipy.special import boxcox1p\n",
        "skewed_features = skewness.index\n",
        "lam = 0.15\n",
        "for feat in skewed_features:\n",
        "    #all_data[feat] += 1\n",
        "    normality_df[feat] = boxcox1p(normality_df[feat], lam)"
      ],
      "execution_count": null,
      "outputs": [
        {
          "output_type": "stream",
          "text": [
            "\n",
            "Skew in numerical features: \n",
            "\n",
            "There are 66 skewed numerical features to Box Cox transform\n"
          ],
          "name": "stdout"
        }
      ]
    },
    {
      "cell_type": "code",
      "metadata": {
        "id": "h_MNisMWpDIl",
        "colab_type": "code",
        "colab": {}
      },
      "source": [
        "normality_df = pd.concat([normality_df, match_date,venue,capacity,id_list],axis=1)\n",
        "train_normality_df = normality_df[:len(target.values)].copy()\n",
        "train_normality_df.loc[:, \"attendance\"] = target.values"
      ],
      "execution_count": null,
      "outputs": []
    },
    {
      "cell_type": "code",
      "metadata": {
        "id": "F4_kOJ_BpDIn",
        "colab_type": "code",
        "colab": {}
      },
      "source": [
        "#近いレコードを取ってきて、平均値を取る\n",
        "def get_df_past_attendance_ad_column_tg(target_df,train_df,same_column,target_column_list,param):\n",
        "    similar_past_df = pd.DataFrame()\n",
        "    for target_column in tqdm(target_column_list):\n",
        "        threshold = (target_df[target_column].max()-target_df[target_column].min())/param\n",
        "        past_attendance_mean = []\n",
        "        for index, row in target_df.iterrows():\n",
        "            past_df_match_date = train_df[train_df[\"match_date\"]<str(row[\"match_date\"])]\n",
        "            #初めのフレームより前のレコードは存在しない\n",
        "            if len(past_df_match_date) == 0:\n",
        "                past_attendance_mean.append(row[\"capacity\"]*0.5)\n",
        "            else:\n",
        "                #会場が一致の、以前のレコード取得\n",
        "                past_df_venue = past_df_match_date[past_df_match_date[same_column] == row[same_column]]\n",
        "                #会場が一致するが、前のレコードが存在しない場合もある\n",
        "                if len(past_df_venue) == 0:\n",
        "                    past_attendance_mean.append(int(past_df_match_date[\"attendance\"].mean()))\n",
        "                else:\n",
        "                    #会場が一致の、以前のレコードからターゲットカラムに近いデータフレームを作成\n",
        "                    past_df_result = past_df_venue[abs(past_df_venue[target_column]- row[target_column])<threshold]\n",
        "                    if len(past_df_result) == 0:\n",
        "                        past_attendance_mean.append(int(past_df_venue[\"attendance\"].mean())) \n",
        "                    else:\n",
        "                        past_attendance_mean.append(int(past_df_result[\"attendance\"].mean()))              \n",
        "        similar_past_df[\"test_\"+str(target_column)]=past_attendance_mean\n",
        "    return similar_past_df"
      ],
      "execution_count": null,
      "outputs": []
    },
    {
      "cell_type": "code",
      "metadata": {
        "id": "R5RjWPBTpDIo",
        "colab_type": "code",
        "colab": {}
      },
      "source": [
        "def get_df_random_mean_past_df(similar_past_df):\n",
        "    similar_past_df = similar_past_df.drop(\"id\",axis=1)\n",
        "    mean_past_df = pd.DataFrame()\n",
        "    for a in similar_past_df:\n",
        "        for b in similar_past_df:\n",
        "            mean_past_df[a+b+\"_mean\"] = similar_past_df[a] + similar_past_df[b]\n",
        "    return mean_past_df"
      ],
      "execution_count": null,
      "outputs": []
    },
    {
      "cell_type": "code",
      "metadata": {
        "id": "hJ4AAT8cpDIp",
        "colab_type": "code",
        "colab": {}
      },
      "source": [
        "not_tg_column = normality_df.filter(regex = \"^team_\").columns.tolist()+normality_df.filter(regex = \"^weather_\").columns.tolist()\n",
        "not_tg_column += [\"id\",\"venue\",\"match_date\",\"capacity\"]"
      ],
      "execution_count": null,
      "outputs": []
    },
    {
      "cell_type": "code",
      "metadata": {
        "id": "n40cZ5zcpDIr",
        "colab_type": "code",
        "colab": {}
      },
      "source": [
        "same_column = \"venue\"\n",
        "target_column_list = list(set(normality_df.columns)^set(not_tg_column))\n",
        "param =6"
      ],
      "execution_count": null,
      "outputs": []
    },
    {
      "cell_type": "code",
      "metadata": {
        "id": "47J0LGFhpDIs",
        "colab_type": "code",
        "colab": {},
        "outputId": "d0a2913c-9e17-4403-fe46-337c4f741fc2"
      },
      "source": [
        "normality_df.columns"
      ],
      "execution_count": null,
      "outputs": [
        {
          "output_type": "execute_result",
          "data": {
            "text/plain": [
              "Index(['section', 'round', 'temperature', 'humidity', 'match_date_year',\n",
              "       'match_date_month', 'match_date_day', 'match_date_dayofweek',\n",
              "       'match_date_is_holiday', 'kick_off_time_hour', 'kick_off_time_minute',\n",
              "       'team_川崎F', 'team_大宮', 'team_FC東京', 'team_広島', 'team_神戸', 'team_山形',\n",
              "       'team_長崎', 'team_大分', 'team_清水', 'team_磐田', 'team_京都', 'team_横浜FC',\n",
              "       'team_湘南', 'team_新潟', 'team_C大阪', 'team_札幌', 'team_横浜FM', 'team_名古屋',\n",
              "       'team_浦和', 'team_千葉', 'team_福岡', 'team_松本', 'team_徳島', 'team_鳥栖',\n",
              "       'team_柏', 'team_甲府', 'team_鹿島', 'team_東京V', 'team_G大阪', 'team_仙台',\n",
              "       'Unnamed: 0', 'weather_晴', 'weather_曇', 'weather_雨', 'weather_屋内',\n",
              "       'weather_雷', 'weather_雪', 'weather_霧', 'home_team_win',\n",
              "       'home_team_score', 'away_team_score', 'home_team_last_rank',\n",
              "       'away_team_last_rank', 'home_team_money', 'home_access_time',\n",
              "       'home_operating_revenue', 'home_net_income', 'away_team_money',\n",
              "       'away_operating_revenue', 'away_net_income', 'Special_section',\n",
              "       'broadcasters_num', 'past_attendance_mean',\n",
              "       'past_attendance_away_team_mean', 'past_attendance_away_team_recent',\n",
              "       'match_date', 'venue', 'capacity', 'id'],\n",
              "      dtype='object')"
            ]
          },
          "metadata": {
            "tags": []
          },
          "execution_count": 75
        }
      ]
    },
    {
      "cell_type": "code",
      "metadata": {
        "id": "CaADoAaCpDIu",
        "colab_type": "code",
        "colab": {},
        "outputId": "74d75d8a-690e-4b14-b14e-601ddbe9257b"
      },
      "source": [
        "target_column_list"
      ],
      "execution_count": null,
      "outputs": [
        {
          "output_type": "execute_result",
          "data": {
            "text/plain": [
              "['home_team_win',\n",
              " 'round',\n",
              " 'home_team_score',\n",
              " 'match_date_is_holiday',\n",
              " 'home_team_money',\n",
              " 'match_date_day',\n",
              " 'past_attendance_mean',\n",
              " 'Unnamed: 0',\n",
              " 'Special_section',\n",
              " 'away_team_score',\n",
              " 'past_attendance_away_team_recent',\n",
              " 'past_attendance_away_team_mean',\n",
              " 'match_date_month',\n",
              " 'broadcasters_num',\n",
              " 'match_date_dayofweek',\n",
              " 'home_access_time',\n",
              " 'home_net_income',\n",
              " 'humidity',\n",
              " 'section',\n",
              " 'away_net_income',\n",
              " 'kick_off_time_hour',\n",
              " 'kick_off_time_minute',\n",
              " 'home_operating_revenue',\n",
              " 'away_team_last_rank',\n",
              " 'temperature',\n",
              " 'home_team_last_rank',\n",
              " 'away_operating_revenue',\n",
              " 'away_team_money',\n",
              " 'match_date_year']"
            ]
          },
          "metadata": {
            "tags": []
          },
          "execution_count": 76
        }
      ]
    },
    {
      "cell_type": "code",
      "metadata": {
        "id": "cg9VHMCipDIv",
        "colab_type": "code",
        "colab": {},
        "outputId": "e18582d4-07f7-41a6-c3a8-401fea5da0e4"
      },
      "source": [
        "similar_past_df = get_df_past_attendance_ad_column_tg(normality_df,train_normality_df,same_column,target_column_list,param)"
      ],
      "execution_count": null,
      "outputs": [
        {
          "output_type": "stream",
          "text": [
            "100%|██████████| 29/29 [04:03<00:00,  8.40s/it]\n"
          ],
          "name": "stderr"
        }
      ]
    },
    {
      "cell_type": "code",
      "metadata": {
        "id": "DbdLzBlwpDIx",
        "colab_type": "code",
        "colab": {}
      },
      "source": [
        "normality_df.to_csv(\"normality_df.csv\",encoding = \"cp932\")"
      ],
      "execution_count": null,
      "outputs": []
    },
    {
      "cell_type": "code",
      "metadata": {
        "id": "0x7_7-WspDIy",
        "colab_type": "code",
        "colab": {}
      },
      "source": [
        "similar_past_df = pd.concat([similar_past_df,id_list],axis=1)"
      ],
      "execution_count": null,
      "outputs": []
    },
    {
      "cell_type": "markdown",
      "metadata": {
        "id": "bIPxoMecpDI0",
        "colab_type": "text"
      },
      "source": [
        "mean_past_df = get_df_random_mean_past_df(similar_past_df)\n",
        "total_df = total_df.merge(mean_past_df,\n",
        "                          how=\"left\",\n",
        "                         on =\"id\")\n",
        "\n",
        "mean_past_df.shape"
      ]
    },
    {
      "cell_type": "code",
      "metadata": {
        "id": "n3uSVpNFpDI0",
        "colab_type": "code",
        "colab": {}
      },
      "source": [
        "total_df = total_df.merge(similar_past_df,\n",
        "                          how=\"left\",\n",
        "                         on =\"id\")"
      ],
      "execution_count": null,
      "outputs": []
    },
    {
      "cell_type": "code",
      "metadata": {
        "id": "WVwf_h-kpDI3",
        "colab_type": "code",
        "colab": {}
      },
      "source": [
        "similar_past_df.to_csv(\"similar_past_df1029_normality.csv\",encoding = \"cp932\")"
      ],
      "execution_count": null,
      "outputs": []
    },
    {
      "cell_type": "code",
      "metadata": {
        "id": "_rjJXVKLpDI4",
        "colab_type": "code",
        "colab": {},
        "outputId": "950eb38b-485c-4926-9e01-58c20a45a9a8"
      },
      "source": [
        "total_df.head(1)"
      ],
      "execution_count": null,
      "outputs": [
        {
          "output_type": "execute_result",
          "data": {
            "text/html": [
              "<div>\n",
              "<style scoped>\n",
              "    .dataframe tbody tr th:only-of-type {\n",
              "        vertical-align: middle;\n",
              "    }\n",
              "\n",
              "    .dataframe tbody tr th {\n",
              "        vertical-align: top;\n",
              "    }\n",
              "\n",
              "    .dataframe thead th {\n",
              "        text-align: right;\n",
              "    }\n",
              "</style>\n",
              "<table border=\"1\" class=\"dataframe\">\n",
              "  <thead>\n",
              "    <tr style=\"text-align: right;\">\n",
              "      <th></th>\n",
              "      <th>id</th>\n",
              "      <th>match_date</th>\n",
              "      <th>kick_off_time</th>\n",
              "      <th>section</th>\n",
              "      <th>round</th>\n",
              "      <th>home_team</th>\n",
              "      <th>away_team</th>\n",
              "      <th>venue</th>\n",
              "      <th>weather</th>\n",
              "      <th>temperature</th>\n",
              "      <th>...</th>\n",
              "      <th>test_away_net_income</th>\n",
              "      <th>test_kick_off_time_hour</th>\n",
              "      <th>test_kick_off_time_minute</th>\n",
              "      <th>test_home_operating_revenue</th>\n",
              "      <th>test_away_team_last_rank</th>\n",
              "      <th>test_temperature</th>\n",
              "      <th>test_home_team_last_rank</th>\n",
              "      <th>test_away_operating_revenue</th>\n",
              "      <th>test_away_team_money</th>\n",
              "      <th>test_match_date_year</th>\n",
              "    </tr>\n",
              "  </thead>\n",
              "  <tbody>\n",
              "    <tr>\n",
              "      <th>0</th>\n",
              "      <td>9190</td>\n",
              "      <td>2006-03-04</td>\n",
              "      <td>2018-11-19 16:04:00</td>\n",
              "      <td>1</td>\n",
              "      <td>1</td>\n",
              "      <td>G大阪</td>\n",
              "      <td>浦和</td>\n",
              "      <td>万博記念競技場</td>\n",
              "      <td>晴</td>\n",
              "      <td>8.3</td>\n",
              "      <td>...</td>\n",
              "      <td>10500.0</td>\n",
              "      <td>10500.0</td>\n",
              "      <td>10500.0</td>\n",
              "      <td>10500.0</td>\n",
              "      <td>10500.0</td>\n",
              "      <td>10500.0</td>\n",
              "      <td>10500.0</td>\n",
              "      <td>10500.0</td>\n",
              "      <td>10500.0</td>\n",
              "      <td>10500.0</td>\n",
              "    </tr>\n",
              "  </tbody>\n",
              "</table>\n",
              "<p>1 rows × 106 columns</p>\n",
              "</div>"
            ],
            "text/plain": [
              "     id match_date       kick_off_time  section  round home_team away_team  \\\n",
              "0  9190 2006-03-04 2018-11-19 16:04:00        1      1       G大阪        浦和   \n",
              "\n",
              "     venue weather  temperature          ...           test_away_net_income  \\\n",
              "0  万博記念競技場       晴          8.3          ...                        10500.0   \n",
              "\n",
              "  test_kick_off_time_hour  test_kick_off_time_minute  \\\n",
              "0                 10500.0                    10500.0   \n",
              "\n",
              "   test_home_operating_revenue  test_away_team_last_rank  test_temperature  \\\n",
              "0                      10500.0                   10500.0           10500.0   \n",
              "\n",
              "   test_home_team_last_rank  test_away_operating_revenue  \\\n",
              "0                   10500.0                      10500.0   \n",
              "\n",
              "   test_away_team_money  test_match_date_year  \n",
              "0               10500.0               10500.0  \n",
              "\n",
              "[1 rows x 106 columns]"
            ]
          },
          "metadata": {
            "tags": []
          },
          "execution_count": 82
        }
      ]
    },
    {
      "cell_type": "code",
      "metadata": {
        "id": "OD64PUjNpDI6",
        "colab_type": "code",
        "colab": {}
      },
      "source": [
        "total_df.to_csv(\"AfterPreprocessing.csv\",encoding='cp932')"
      ],
      "execution_count": null,
      "outputs": []
    },
    {
      "cell_type": "markdown",
      "metadata": {
        "id": "4aXmJnaxpDI7",
        "colab_type": "text"
      },
      "source": [
        "#\"home_team_follower\",\"away_team_follower\",,\"home_team_last_rank\",\"home_team_last_rank\",\"away_team_last_rank\",\"home_team_money\",\"away_team_money\"\n",
        "from sklearn import preprocessing\n",
        "for column in [\"temperature\",\"humidity\",\"home_team_last_rank\",\"away_team_last_rank\"]:\n",
        "    le = preprocessing.LabelEncoder()\n",
        "    le = le.fit(total_df[column])\n",
        "    total_df[column] = le.transform(total_df[column])"
      ]
    },
    {
      "cell_type": "code",
      "metadata": {
        "id": "rYQomJo7pDI7",
        "colab_type": "code",
        "colab": {}
      },
      "source": [
        "if google_colab == 1:\n",
        "    total_df.to_csv(output_name+\"_total_df.csv\",encoding=\"shift_jis\")\n",
        "    train_df.to_csv(output_name+\"_train_df.csv\",encoding=\"shift_jis\")\n",
        "else:\n",
        "    total_df.to_csv(\"../output/\"+output_name+\"_total_df.csv\",encoding=\"shift_jis\")\n",
        "    train_df.to_csv(\"../output/\"+output_name+\"_train_df.csv\",encoding=\"shift_jis\")"
      ],
      "execution_count": null,
      "outputs": []
    },
    {
      "cell_type": "code",
      "metadata": {
        "id": "RF2z1BzBpDI8",
        "colab_type": "code",
        "colab": {},
        "outputId": "f9f374ad-64b2-4d86-eac9-2de982192107"
      },
      "source": [
        "total_df.shape"
      ],
      "execution_count": null,
      "outputs": [
        {
          "output_type": "execute_result",
          "data": {
            "text/plain": [
              "(3843, 106)"
            ]
          },
          "metadata": {
            "tags": []
          },
          "execution_count": 85
        }
      ]
    },
    {
      "cell_type": "code",
      "metadata": {
        "id": "LSdvtuPYpDI9",
        "colab_type": "code",
        "colab": {}
      },
      "source": [
        "extra_df = pd.read_csv(\"../../data/AfterPreprocessing_extradata.csv\",encoding=\"shift_jis\")\n",
        "total_df = pd.read_csv(\"AfterPreprocessing.csv\",encoding='cp932')"
      ],
      "execution_count": null,
      "outputs": []
    },
    {
      "cell_type": "code",
      "metadata": {
        "id": "CyY-zQeapDI-",
        "colab_type": "code",
        "colab": {},
        "outputId": "43cbb2fa-a219-4fd2-810f-3f2e7893266d"
      },
      "source": [
        "extra_df.tail()"
      ],
      "execution_count": null,
      "outputs": [
        {
          "output_type": "execute_result",
          "data": {
            "text/html": [
              "<div>\n",
              "<style scoped>\n",
              "    .dataframe tbody tr th:only-of-type {\n",
              "        vertical-align: middle;\n",
              "    }\n",
              "\n",
              "    .dataframe tbody tr th {\n",
              "        vertical-align: top;\n",
              "    }\n",
              "\n",
              "    .dataframe thead th {\n",
              "        text-align: right;\n",
              "    }\n",
              "</style>\n",
              "<table border=\"1\" class=\"dataframe\">\n",
              "  <thead>\n",
              "    <tr style=\"text-align: right;\">\n",
              "      <th></th>\n",
              "      <th>Unnamed: 0</th>\n",
              "      <th>attendance</th>\n",
              "      <th>away_team</th>\n",
              "      <th>num_broadcasters</th>\n",
              "      <th>division</th>\n",
              "      <th>home_team</th>\n",
              "      <th>humidity</th>\n",
              "      <th>id</th>\n",
              "      <th>kick_off_time</th>\n",
              "      <th>match_date</th>\n",
              "      <th>...</th>\n",
              "      <th>test_Special_section</th>\n",
              "      <th>test_kick_off_time_hour</th>\n",
              "      <th>test_attendance</th>\n",
              "      <th>test_home_team_score</th>\n",
              "      <th>test_Unnamed: 0</th>\n",
              "      <th>test_past_attendance_mean</th>\n",
              "      <th>test_match_date_month</th>\n",
              "      <th>test_section</th>\n",
              "      <th>test_division</th>\n",
              "      <th>test_match_date_year</th>\n",
              "    </tr>\n",
              "  </thead>\n",
              "  <tbody>\n",
              "    <tr>\n",
              "      <th>13360</th>\n",
              "      <td>13360</td>\n",
              "      <td>NaN</td>\n",
              "      <td>磐田</td>\n",
              "      <td>1</td>\n",
              "      <td>NaN</td>\n",
              "      <td>川崎F</td>\n",
              "      <td>50.0</td>\n",
              "      <td>30013</td>\n",
              "      <td>2018-11-04 14:00:00</td>\n",
              "      <td>2018-12-01 00:00:00</td>\n",
              "      <td>...</td>\n",
              "      <td>14157.0</td>\n",
              "      <td>13009.0</td>\n",
              "      <td>13122.0</td>\n",
              "      <td>13122.0</td>\n",
              "      <td>13122.0</td>\n",
              "      <td>15817.0</td>\n",
              "      <td>15143.0</td>\n",
              "      <td>13017.0</td>\n",
              "      <td>13122.0</td>\n",
              "      <td>19931.0</td>\n",
              "    </tr>\n",
              "    <tr>\n",
              "      <th>13361</th>\n",
              "      <td>13361</td>\n",
              "      <td>NaN</td>\n",
              "      <td>C大阪</td>\n",
              "      <td>1</td>\n",
              "      <td>NaN</td>\n",
              "      <td>横浜FM</td>\n",
              "      <td>50.0</td>\n",
              "      <td>30014</td>\n",
              "      <td>2018-11-04 14:00:00</td>\n",
              "      <td>2018-12-01 00:00:00</td>\n",
              "      <td>...</td>\n",
              "      <td>29265.0</td>\n",
              "      <td>26837.0</td>\n",
              "      <td>25921.0</td>\n",
              "      <td>25921.0</td>\n",
              "      <td>25921.0</td>\n",
              "      <td>26040.0</td>\n",
              "      <td>26456.0</td>\n",
              "      <td>26009.0</td>\n",
              "      <td>25921.0</td>\n",
              "      <td>25914.0</td>\n",
              "    </tr>\n",
              "    <tr>\n",
              "      <th>13362</th>\n",
              "      <td>13362</td>\n",
              "      <td>NaN</td>\n",
              "      <td>湘南</td>\n",
              "      <td>1</td>\n",
              "      <td>NaN</td>\n",
              "      <td>名古屋</td>\n",
              "      <td>50.0</td>\n",
              "      <td>30015</td>\n",
              "      <td>2018-11-04 14:00:00</td>\n",
              "      <td>2018-12-01 00:00:00</td>\n",
              "      <td>...</td>\n",
              "      <td>15101.0</td>\n",
              "      <td>12361.0</td>\n",
              "      <td>12747.0</td>\n",
              "      <td>12747.0</td>\n",
              "      <td>12747.0</td>\n",
              "      <td>12747.0</td>\n",
              "      <td>14869.0</td>\n",
              "      <td>12747.0</td>\n",
              "      <td>12747.0</td>\n",
              "      <td>12747.0</td>\n",
              "    </tr>\n",
              "    <tr>\n",
              "      <th>13363</th>\n",
              "      <td>13363</td>\n",
              "      <td>NaN</td>\n",
              "      <td>仙台</td>\n",
              "      <td>2</td>\n",
              "      <td>NaN</td>\n",
              "      <td>神戸</td>\n",
              "      <td>50.0</td>\n",
              "      <td>30016</td>\n",
              "      <td>2018-11-04 14:00:00</td>\n",
              "      <td>2018-12-01 00:00:00</td>\n",
              "      <td>...</td>\n",
              "      <td>15301.0</td>\n",
              "      <td>17022.0</td>\n",
              "      <td>14570.0</td>\n",
              "      <td>14570.0</td>\n",
              "      <td>14570.0</td>\n",
              "      <td>14570.0</td>\n",
              "      <td>16879.0</td>\n",
              "      <td>13042.0</td>\n",
              "      <td>14570.0</td>\n",
              "      <td>15781.0</td>\n",
              "    </tr>\n",
              "    <tr>\n",
              "      <th>13364</th>\n",
              "      <td>13364</td>\n",
              "      <td>NaN</td>\n",
              "      <td>清水</td>\n",
              "      <td>1</td>\n",
              "      <td>NaN</td>\n",
              "      <td>長崎</td>\n",
              "      <td>50.0</td>\n",
              "      <td>30017</td>\n",
              "      <td>2018-11-04 14:00:00</td>\n",
              "      <td>2018-12-01 00:00:00</td>\n",
              "      <td>...</td>\n",
              "      <td>5151.0</td>\n",
              "      <td>4838.0</td>\n",
              "      <td>4413.0</td>\n",
              "      <td>4413.0</td>\n",
              "      <td>4413.0</td>\n",
              "      <td>4538.0</td>\n",
              "      <td>4509.0</td>\n",
              "      <td>4678.0</td>\n",
              "      <td>4413.0</td>\n",
              "      <td>4413.0</td>\n",
              "    </tr>\n",
              "  </tbody>\n",
              "</table>\n",
              "<p>5 rows × 102 columns</p>\n",
              "</div>"
            ],
            "text/plain": [
              "       Unnamed: 0  attendance away_team  num_broadcasters  division home_team  \\\n",
              "13360       13360         NaN        磐田                 1       NaN       川崎F   \n",
              "13361       13361         NaN       C大阪                 1       NaN      横浜FM   \n",
              "13362       13362         NaN        湘南                 1       NaN       名古屋   \n",
              "13363       13363         NaN        仙台                 2       NaN        神戸   \n",
              "13364       13364         NaN        清水                 1       NaN        長崎   \n",
              "\n",
              "       humidity     id        kick_off_time           match_date  \\\n",
              "13360      50.0  30013  2018-11-04 14:00:00  2018-12-01 00:00:00   \n",
              "13361      50.0  30014  2018-11-04 14:00:00  2018-12-01 00:00:00   \n",
              "13362      50.0  30015  2018-11-04 14:00:00  2018-12-01 00:00:00   \n",
              "13363      50.0  30016  2018-11-04 14:00:00  2018-12-01 00:00:00   \n",
              "13364      50.0  30017  2018-11-04 14:00:00  2018-12-01 00:00:00   \n",
              "\n",
              "               ...           test_Special_section  test_kick_off_time_hour  \\\n",
              "13360          ...                        14157.0                  13009.0   \n",
              "13361          ...                        29265.0                  26837.0   \n",
              "13362          ...                        15101.0                  12361.0   \n",
              "13363          ...                        15301.0                  17022.0   \n",
              "13364          ...                         5151.0                   4838.0   \n",
              "\n",
              "       test_attendance test_home_team_score test_Unnamed: 0  \\\n",
              "13360          13122.0              13122.0         13122.0   \n",
              "13361          25921.0              25921.0         25921.0   \n",
              "13362          12747.0              12747.0         12747.0   \n",
              "13363          14570.0              14570.0         14570.0   \n",
              "13364           4413.0               4413.0          4413.0   \n",
              "\n",
              "       test_past_attendance_mean  test_match_date_month  test_section  \\\n",
              "13360                    15817.0                15143.0       13017.0   \n",
              "13361                    26040.0                26456.0       26009.0   \n",
              "13362                    12747.0                14869.0       12747.0   \n",
              "13363                    14570.0                16879.0       13042.0   \n",
              "13364                     4538.0                 4509.0        4678.0   \n",
              "\n",
              "       test_division  test_match_date_year  \n",
              "13360        13122.0               19931.0  \n",
              "13361        25921.0               25914.0  \n",
              "13362        12747.0               12747.0  \n",
              "13363        14570.0               15781.0  \n",
              "13364         4413.0                4413.0  \n",
              "\n",
              "[5 rows x 102 columns]"
            ]
          },
          "metadata": {
            "tags": []
          },
          "execution_count": 87
        }
      ]
    },
    {
      "cell_type": "code",
      "metadata": {
        "id": "5w50afIipDJA",
        "colab_type": "code",
        "colab": {}
      },
      "source": [
        "total_df[\"id\"] =total_df[\"id\"].astype(int)\n",
        "extra_df_id = extra_df[\"id\"].astype(int)\n",
        "extra_df_replace = extra_df.filter(regex = \"^test_\")\n",
        "extra_df_replace[\"id\"] =extra_df_id\n",
        "extra_column = extra_df_replace.columns.tolist()"
      ],
      "execution_count": null,
      "outputs": []
    },
    {
      "cell_type": "code",
      "metadata": {
        "id": "G-UL8-vbpDJB",
        "colab_type": "code",
        "colab": {}
      },
      "source": [
        "total_column = total_df.columns.tolist()"
      ],
      "execution_count": null,
      "outputs": []
    },
    {
      "cell_type": "code",
      "metadata": {
        "id": "AGSr1pT3pDJD",
        "colab_type": "code",
        "colab": {}
      },
      "source": [
        "tg_list = list(set(extra_column)&set(total_column))\n",
        "tg_list.remove(\"id\")"
      ],
      "execution_count": null,
      "outputs": []
    },
    {
      "cell_type": "code",
      "metadata": {
        "id": "ogCT4x70pDJE",
        "colab_type": "code",
        "colab": {}
      },
      "source": [
        "total_df.drop(tg_list, axis=1, inplace=True)"
      ],
      "execution_count": null,
      "outputs": []
    },
    {
      "cell_type": "code",
      "metadata": {
        "id": "ybIQV3jVpDJF",
        "colab_type": "code",
        "colab": {}
      },
      "source": [
        "total_df = total_df.merge(right=extra_df_replace,\n",
        "                         how= 'left',\n",
        "                         on ='id')"
      ],
      "execution_count": null,
      "outputs": []
    },
    {
      "cell_type": "code",
      "metadata": {
        "id": "ip_bUOzWpDJG",
        "colab_type": "code",
        "colab": {}
      },
      "source": [
        "# objectとdatetimeは直接扱えないので取り除く\n",
        "# match_dataなど\n",
        "del_col = total_df.select_dtypes([\"object\", np.datetime64]).columns\n",
        "total_df.drop(del_col, axis=1, inplace=True)"
      ],
      "execution_count": null,
      "outputs": []
    },
    {
      "cell_type": "code",
      "metadata": {
        "ExecuteTime": {
          "end_time": "2018-09-27T08:55:17.036496Z",
          "start_time": "2018-09-27T08:55:16.602645Z"
        },
        "scrolled": true,
        "id": "Ca1Sfsm-pDJH",
        "colab_type": "code",
        "colab": {}
      },
      "source": [
        "total_df = total_df.dropna()\n",
        "train_df = total_df.query(\"id < 19075\")\n",
        "train_df.loc[:, \"attendance\"] = target.values\n",
        "train_df.drop(2479, inplace=True)  # 無観客試合\n",
        "#2006年のデータは観客数の過去レコードが少ないから学習データとして用いない\n",
        "#train_df = train_df[train_df[\"match_date_year\"]>2006]\n",
        "train_ID = train_df[\"id\"]\n",
        "test_df = total_df.query(\"id >= 19075\")\n",
        "#train_df = train_df.drop(train_df[(train_df['capacity']>50000) & (train_df['attendance']<10000)].index)\n",
        "#train_df = train_df.drop(train_df[train_df['attendance']<1000].index)"
      ],
      "execution_count": null,
      "outputs": []
    },
    {
      "cell_type": "code",
      "metadata": {
        "id": "rZ10WwEgpDJJ",
        "colab_type": "code",
        "colab": {}
      },
      "source": [
        "if google_colab == 1:\n",
        "    total_df.to_csv(output_name+\"_total_df.csv\",encoding=\"shift_jis\")\n",
        "    train_df.to_csv(output_name+\"_train_df.csv\",encoding=\"shift_jis\")\n",
        "else:\n",
        "    total_df.to_csv(\"../output/\"+output_name+\"_total_df.csv\",encoding=\"shift_jis\")\n",
        "    train_df.to_csv(\"../output/\"+output_name+\"_train_df.csv\",encoding=\"shift_jis\")"
      ],
      "execution_count": null,
      "outputs": []
    },
    {
      "cell_type": "markdown",
      "metadata": {
        "id": "FYkagHNmpDJL",
        "colab_type": "text"
      },
      "source": [
        "## hold-out検証"
      ]
    },
    {
      "cell_type": "code",
      "metadata": {
        "id": "fVqEpLyJpDJL",
        "colab_type": "code",
        "colab": {}
      },
      "source": [
        "add_drop_column = total_df.filter(regex=\"^weather\").columns.tolist()"
      ],
      "execution_count": null,
      "outputs": []
    },
    {
      "cell_type": "code",
      "metadata": {
        "ExecuteTime": {
          "end_time": "2018-09-27T08:55:17.065406Z",
          "start_time": "2018-09-27T08:55:17.037482Z"
        },
        "id": "kDPYkxCVpDJN",
        "colab_type": "code",
        "colab": {}
      },
      "source": [
        "# 今回は時系列データなので、ある期間との前後でデータを分ける\n",
        "# 2015年までのデータを訓練データ\n",
        "# 2016年のデータを検証用データにする\n",
        "# 評価関数はRMSLEなので、あらかじめ目的変数のlogをとっておく\n",
        "#,\"home_team_follower\",\"away_team_follower\"\n",
        "drop_colum=[\"id\",\"attendance\"]\n",
        "#drop_colum = [\"id\",\"attendance\"]\"home_team_follower\",\"away_team_follower\"\n",
        "   #           ,\"home_team_money\",\"away_team_money\",\"home_team_last_rank\",\"away_team_last_rank\"]\n",
        "all_train_X = train_df.query(\"match_date_year <= 2016\").drop(drop_colum, axis=1)\n",
        "all_train_y = np.log1p(train_df.query(\"match_date_year <= 2016\")[\"attendance\"])\n",
        "\n",
        "train_X = train_df.query(\"match_date_year <= 2015\").drop(drop_colum, axis=1)\n",
        "train_y = np.log1p(train_df.query(\"match_date_year <= 2015\")[\"attendance\"])\n",
        "\n",
        "val_X = train_df.query(\"match_date_year == 2016\").drop(drop_colum, axis=1)\n",
        "val_y = np.log1p(train_df.query(\"match_date_year == 2016\")[\"attendance\"])\n",
        "drop_colum.remove(\"attendance\")\n",
        "test_X = test_df.drop(drop_colum, axis=1)"
      ],
      "execution_count": null,
      "outputs": []
    },
    {
      "cell_type": "code",
      "metadata": {
        "id": "S1aB0B4npDJO",
        "colab_type": "code",
        "colab": {},
        "outputId": "dc6d21f0-cd14-490f-b694-d3a5b3c776d5"
      },
      "source": [
        "print(train_X.shape,train_y.shape)\n",
        "print(val_X.shape,val_y.shape)"
      ],
      "execution_count": null,
      "outputs": [
        {
          "output_type": "stream",
          "text": [
            "(3059, 100) (3059,)\n",
            "(306, 100) (306,)\n"
          ],
          "name": "stdout"
        }
      ]
    },
    {
      "cell_type": "code",
      "metadata": {
        "id": "CGpz8L-6pDJP",
        "colab_type": "code",
        "colab": {},
        "outputId": "da22be56-e260-4400-fe31-c2a1dc689a10"
      },
      "source": [
        "# 説明変数の個数は７３個\n",
        "len(train_X.columns)"
      ],
      "execution_count": null,
      "outputs": [
        {
          "output_type": "execute_result",
          "data": {
            "text/plain": [
              "100"
            ]
          },
          "metadata": {
            "tags": []
          },
          "execution_count": 99
        }
      ]
    },
    {
      "cell_type": "markdown",
      "metadata": {
        "id": "1KeH9DLkpDJS",
        "colab_type": "text"
      },
      "source": [
        "## LihtGBMによる予測"
      ]
    },
    {
      "cell_type": "code",
      "metadata": {
        "id": "Vga3jNqrpDJT",
        "colab_type": "code",
        "colab": {}
      },
      "source": [
        "from scipy.stats import randint as sp_randint\n",
        "from scipy.stats import uniform as sp_uniform"
      ],
      "execution_count": null,
      "outputs": []
    },
    {
      "cell_type": "code",
      "metadata": {
        "id": "pV7ltR0NpDJU",
        "colab_type": "code",
        "colab": {}
      },
      "source": [
        "r=[]\n",
        "for i in range(3,11):\n",
        "    r.append(i/10.0)"
      ],
      "execution_count": null,
      "outputs": []
    },
    {
      "cell_type": "code",
      "metadata": {
        "id": "gMFM9Z1opDJU",
        "colab_type": "code",
        "colab": {},
        "outputId": "ddd0ef2d-3641-452b-ea23-65e12aedcdb8"
      },
      "source": [
        "train_X.shape"
      ],
      "execution_count": null,
      "outputs": [
        {
          "output_type": "execute_result",
          "data": {
            "text/plain": [
              "(3059, 100)"
            ]
          },
          "metadata": {
            "tags": []
          },
          "execution_count": 102
        }
      ]
    },
    {
      "cell_type": "code",
      "metadata": {
        "id": "TzdUvtGQpDJW",
        "colab_type": "code",
        "colab": {},
        "outputId": "739d2dcb-a5ec-4f61-a765-78e958843e2a"
      },
      "source": [
        "train_y.shape"
      ],
      "execution_count": null,
      "outputs": [
        {
          "output_type": "execute_result",
          "data": {
            "text/plain": [
              "(3059,)"
            ]
          },
          "metadata": {
            "tags": []
          },
          "execution_count": 103
        }
      ]
    },
    {
      "cell_type": "code",
      "metadata": {
        "scrolled": true,
        "id": "iEYrM1NQpDJX",
        "colab_type": "code",
        "colab": {},
        "outputId": "61dd3de2-4f8b-4346-a300-804603c704b4"
      },
      "source": [
        "# みんな大好きLightGBM\n",
        "# 無調整だが、十分いいスコアが出た\n",
        "# ただし、過学習気味なので正則化を考えたい\n",
        "# 必要なライブラリのインlポート\n",
        "from sklearn.model_selection import RandomizedSearchCV\n",
        "#RandomSearch用params\n",
        "\"\"\"\n",
        "reg = lgb.LGBMRegressor(objective='regression',random_state=1029,\n",
        "                        n_jobs=1\n",
        "                            )\n",
        "params = {'boosting_type': ['gbdt'],\n",
        "                    'num_leaves': sp_randint(2, 20),\n",
        "                    'subsample_for_bin': sp_randint(10, 30),\n",
        "                    'min_split_gain': sp_uniform(0, 5.0),\n",
        "                    'min_child_weight': sp_uniform(1e-6, 1e-2),\n",
        "                    'reg_alpha': sp_uniform(0, 0.01),\n",
        "                    'reg_lambda': sp_uniform(0, 0.01),\n",
        "                    'tree_learner': ['data', 'feature', 'serial', 'voting' ],\n",
        "                    'application': ['regression'],\n",
        "                    'bagging_freq': sp_randint(1, 11),\n",
        "                    'bagging_fraction': sp_uniform(0.1, 0.9),\n",
        "                    'feature_fraction': sp_uniform(0.01, 0.60),\n",
        "                    'learning_rate': sp_uniform(0.05, 0.01),\n",
        "                    'max_depth': sp_randint(-2, 5),\n",
        "                    'n_estimators': list(range(200,300,10)),\n",
        "                 }\n",
        "rscv = RandomizedSearchCV(\n",
        "                              estimator=reg,\n",
        "                              param_distributions=params,\n",
        "                              cv=3,\n",
        "                              n_iter=10000, # イテレーションが少ないと起きない\n",
        "                              n_jobs=4,\n",
        "                              verbose=1,\n",
        "                              refit=True,\n",
        "                            )\n",
        "rscv = rscv.fit(train_X, train_y, \n",
        "                    eval_set=(val_X, val_y),\n",
        "                    early_stopping_rounds=1,\n",
        "                    eval_metric=['l2'],\n",
        "                    verbose=False,\n",
        "                    )\n",
        "print (rscv.best_params_, rscv.best_score_)\n",
        "model_lgb = lgb.LGBMRegressor(**rscv.best_params_)\n",
        "model_lgb.fit(train_X, train_y)\n",
        "\n",
        "\"\"\"\n",
        "\"\"\"\n",
        "#GridSearch用params\n",
        "reg = lgb.LGBMRegressor(objective='regression',random_state=1029,\n",
        "                        n_jobs=1\n",
        "                            )\n",
        "param_dist = {'boosting_type': ['gbdt'],\n",
        "    \"learning_rate\": [0.01,0.05,0.1],\n",
        "               \"max_depth\": [-1,3,5],\n",
        "              \"n_estimators\":[250,400,600],\n",
        "              \"max_bin\":[50,60,70],\n",
        "              'bagging_fraction':[i/10.0 for i in range(8,9)],\n",
        "              \"bagging_freq\":list(range(6,8)),\n",
        "              \"feature_fraction\":[i/10.0 for i in range(1,3)],\n",
        "            \"min_data_in_leaf\":list(range(6,8)),\n",
        "              \"min_sum_hessian_in_leaf\":list(range(10,11))\n",
        "             }\n",
        "reg_cv = GridSearchCV(reg,param_dist, verbose=1,cv=5)\n",
        "reg_cv = reg_cv.fit(train_X, train_y, \n",
        "                    eval_set=(val_X, val_y),\n",
        "                    early_stopping_rounds=1,\n",
        "                    eval_metric=['l2'],\n",
        "                    verbose=False,\n",
        "                    )\n",
        "print (reg_cv.best_params_, reg_cv.best_score_)\n",
        "model_lgb = lgb.LGBMRegressor(**reg_cv.best_params_)\n",
        "model_lgb.fit(train_X, train_y)\n",
        "\n",
        "\"\"\"\n",
        "#無調整\n",
        "#\"\"\"\n",
        "model_lgb = lgb.LGBMRegressor(objective='regression',num_leaves=5,\n",
        "                              learning_rate=0.05, n_estimators=720,\n",
        "                              max_bin = 55, bagging_fraction = 0.8,\n",
        "                              bagging_freq = 5, feature_fraction = 0.2319,\n",
        "                              feature_fraction_seed=9, bagging_seed=9,\n",
        "                              min_data_in_leaf =6, min_sum_hessian_in_leaf = 11,random_state=1029)\n",
        "model_lgb.fit(train_X, train_y)                            \n",
        "#\"\"\"\n",
        "train_pred = model_lgb.predict(train_X)\n",
        "val_pred = model_lgb.predict(val_X)\n",
        "print(\"train_score: {:<.5}\".format(np.sqrt(mean_squared_error(train_y, train_pred))))\n",
        "print(\"val_score: {:<.5}\".format(np.sqrt(mean_squared_error(val_y, val_pred))))"
      ],
      "execution_count": null,
      "outputs": [
        {
          "output_type": "stream",
          "text": [
            "train_score: 0.15802\n",
            "val_score: 0.21384\n"
          ],
          "name": "stdout"
        }
      ]
    },
    {
      "cell_type": "markdown",
      "metadata": {
        "id": "f9mwyYLgpDJY",
        "colab_type": "text"
      },
      "source": [
        "## 結果の提出"
      ]
    },
    {
      "cell_type": "code",
      "metadata": {
        "id": "b0XOam5GpDJY",
        "colab_type": "code",
        "colab": {}
      },
      "source": [
        "# 改めて全訓練データで予測\n",
        "model_lgb.fit(all_train_X, all_train_y)\n",
        "test_pred = model_lgb.predict(test_X)\n",
        "smpsb_df.iloc[:len(test_X), 1] = np.expm1(model_lgb.predict(test_X)) "
      ],
      "execution_count": null,
      "outputs": []
    },
    {
      "cell_type": "code",
      "metadata": {
        "ExecuteTime": {
          "end_time": "2018-09-27T08:56:44.399418Z",
          "start_time": "2018-09-27T08:56:44.372487Z"
        },
        "id": "QTsnT_b7pDJZ",
        "colab_type": "code",
        "colab": {}
      },
      "source": [
        "# コードの提出\n",
        "if google_colab == 1:\n",
        "    smpsb_df.to_csv(result_name+\".csv\", index=None, header=None)\n",
        "else:\n",
        "    smpsb_df.to_csv(\"../output/\"+result_name+\".csv\", index=None, header=None)"
      ],
      "execution_count": null,
      "outputs": []
    },
    {
      "cell_type": "code",
      "metadata": {
        "id": "RkaW7fOapDJb",
        "colab_type": "code",
        "colab": {},
        "outputId": "9b383065-34cb-44ae-bc9b-02743f850851"
      },
      "source": [
        "plt.figure(figsize=(6, 15))\n",
        "importances = pd.Series(model_lgb.feature_importances_, index = train_X.columns)\n",
        "importances = importances.sort_values()\n",
        "importances.plot(kind = \"barh\")\n",
        "plt.title(\"imporance in the LightGBM Model\")\n",
        "plt.show()"
      ],
      "execution_count": null,
      "outputs": [
        {
          "output_type": "display_data",
          "data": {
            "image/png": "[encoded data removed]",
            "text/plain": [
              "<Figure size 432x1080 with 1 Axes>"
            ]
          },
          "metadata": {
            "tags": []
          }
        }
      ]
    },
    {
      "cell_type": "code",
      "metadata": {
        "id": "SIGwe1N_pDJd",
        "colab_type": "code",
        "colab": {},
        "outputId": "472e4b30-6a3f-42f6-8252-6f503b571287"
      },
      "source": [
        "from sklearn.metrics import r2_score\n",
        "plt.scatter(val_y, val_pred, alpha=0.7)\n",
        "plt.title(\"$R^2 = {:<.5}$\".format(r2_score(val_y, val_pred)))\n",
        "x = np.linspace(8.5, 11, 100)\n",
        "plt.plot(x, x, c=\"indianred\")"
      ],
      "execution_count": null,
      "outputs": [
        {
          "output_type": "execute_result",
          "data": {
            "text/plain": [
              "[<matplotlib.lines.Line2D at 0x1d269ac79e8>]"
            ]
          },
          "metadata": {
            "tags": []
          },
          "execution_count": 108
        },
        {
          "output_type": "display_data",
          "data": {
            "image/png": "[encoded data removed]",
            "text/plain": [
              "<Figure size 432x288 with 1 Axes>"
            ]
          },
          "metadata": {
            "tags": []
          }
        }
      ]
    },
    {
      "cell_type": "code",
      "metadata": {
        "id": "1xTDNWrqpDJe",
        "colab_type": "code",
        "colab": {}
      },
      "source": [
        ""
      ],
      "execution_count": null,
      "outputs": []
    },
    {
      "cell_type": "code",
      "metadata": {
        "id": "ltVJHV2upDJg",
        "colab_type": "code",
        "colab": {}
      },
      "source": [
        ""
      ],
      "execution_count": null,
      "outputs": []
    }
  ]
}